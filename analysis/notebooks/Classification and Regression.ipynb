{
 "cells": [
  {
   "cell_type": "code",
   "execution_count": 1,
   "metadata": {},
   "outputs": [],
   "source": [
    "import pickle\n",
    "import seaborn as sns\n",
    "import numpy as np\n",
    "import pandas as pd\n",
    "import matplotlib.pyplot as plt\n",
    "import psycopg2\n",
    "from scipy.stats import spearmanr\n",
    "from sklearn.neural_network import MLPRegressor\n",
    "from sklearn.ensemble import GradientBoostingClassifier, GradientBoostingRegressor\n",
    "from sklearn.metrics import confusion_matrix\n",
    "from sqlalchemy import create_engine\n",
    "from sqlalchemy_utils import database_exists, create_database, drop_database\n",
    "from utils import make_regression_array"
   ]
  },
  {
   "cell_type": "code",
   "execution_count": 2,
   "metadata": {},
   "outputs": [],
   "source": [
    "retrain = False"
   ]
  },
  {
   "cell_type": "code",
   "execution_count": 3,
   "metadata": {},
   "outputs": [],
   "source": [
    "with open('pg_credentials.p', 'rb') as f:\n",
    "    pg_credentials = pickle.load(f)"
   ]
  },
  {
   "cell_type": "code",
   "execution_count": 4,
   "metadata": {},
   "outputs": [],
   "source": [
    "host     = 'localhost'\n",
    "db_name  = 'goodreads_db'\n",
    "username = pg_credentials['username']\n",
    "password = pg_credentials['password']\n",
    "port = '5432'  # default port that postgres listens on\n",
    "    \n",
    "con = psycopg2.connect(database = db_name, user = username, host=host, password=password)"
   ]
  },
  {
   "cell_type": "code",
   "execution_count": 5,
   "metadata": {},
   "outputs": [],
   "source": [
    "query = \"SELECT * FROM works_withgenrelang\"\n",
    "all_data = pd.read_sql_query(query, con)"
   ]
  },
  {
   "cell_type": "code",
   "execution_count": 6,
   "metadata": {},
   "outputs": [
    {
     "name": "stdout",
     "output_type": "stream",
     "text": [
      "Languages: ['English']\n"
     ]
    }
   ],
   "source": [
    "data, mask = make_regression_array(all_data)"
   ]
  },
  {
   "cell_type": "code",
   "execution_count": 7,
   "metadata": {},
   "outputs": [],
   "source": [
    "ymask = (all_data['pubyear'][mask] < 2019) & (all_data['pubyear'][mask] > 2008)\n",
    "mask[mask][~ymask.values] = False\n",
    "data = data[ymask]"
   ]
  },
  {
   "cell_type": "code",
   "execution_count": 8,
   "metadata": {},
   "outputs": [
    {
     "name": "stderr",
     "output_type": "stream",
     "text": [
      "/home/msimet/anaconda3/envs/goodreads/lib/python3.7/site-packages/numpy/lib/function_base.py:2530: RuntimeWarning: invalid value encountered in true_divide\n",
      "  c /= stddev[:, None]\n",
      "/home/msimet/anaconda3/envs/goodreads/lib/python3.7/site-packages/numpy/lib/function_base.py:2531: RuntimeWarning: invalid value encountered in true_divide\n",
      "  c /= stddev[None, :]\n",
      "/home/msimet/anaconda3/envs/goodreads/lib/python3.7/site-packages/scipy/stats/_distn_infrastructure.py:901: RuntimeWarning: invalid value encountered in greater\n",
      "  return (a < x) & (x < b)\n",
      "/home/msimet/anaconda3/envs/goodreads/lib/python3.7/site-packages/scipy/stats/_distn_infrastructure.py:901: RuntimeWarning: invalid value encountered in less\n",
      "  return (a < x) & (x < b)\n",
      "/home/msimet/anaconda3/envs/goodreads/lib/python3.7/site-packages/scipy/stats/_distn_infrastructure.py:1892: RuntimeWarning: invalid value encountered in less_equal\n",
      "  cond2 = cond0 & (x <= _a)\n"
     ]
    }
   ],
   "source": [
    "correlations = []\n",
    "for column in data.columns:\n",
    "    correlations.append(spearmanr(data[column], data['true_score'])[1])"
   ]
  },
  {
   "cell_type": "code",
   "execution_count": 9,
   "metadata": {},
   "outputs": [
    {
     "name": "stdout",
     "output_type": "stream",
     "text": [
      "['true_score' 'nprev' 'author_annualviews' 'genre4' 'genre8' 'genre6'\n",
      " 'genre1' 'genre5' 'genre0' 'review_embed2' 'genre9' 'ya' 'to_read' 'favs'\n",
      " 'dnf' 'children' 'genre3' 'genre7' 'is_series' 'review_embed9' 'nratings'\n",
      " 'review_embed0' 'review_embed1' 'rating' 'review_embed4' 'review_embed3'\n",
      " 'nreviews' 'review_embed8' 'pub_date' 'genre2' 'review_embed6'\n",
      " 'review_embed7' 'short_stories' 'review_embed5' 'comics']\n"
     ]
    }
   ],
   "source": [
    "print(np.array(data.columns)[np.argsort(correlations)])"
   ]
  },
  {
   "cell_type": "code",
   "execution_count": 10,
   "metadata": {},
   "outputs": [
    {
     "name": "stdout",
     "output_type": "stream",
     "text": [
      "[0.00000000e+00 1.04246959e-25 1.02541525e-13 1.95636523e-13\n",
      " 6.65453857e-13 4.53561967e-12 8.11430679e-09 1.10475096e-05\n",
      " 2.91853340e-05 5.26587075e-04 3.44210073e-03 1.03737268e-02\n",
      " 1.03737268e-02 1.03737268e-02 1.03737268e-02 1.03737268e-02\n",
      " 1.29833254e-02 1.42113578e-02 2.06501085e-02 2.33234665e-02\n",
      " 2.43302703e-02 3.38723471e-02 5.17602211e-02 6.37783653e-02\n",
      " 9.07830362e-02 1.14910484e-01 1.41060206e-01 2.24027814e-01\n",
      " 2.74883188e-01 3.48372199e-01 5.96913020e-01 5.99983110e-01\n",
      " 6.31168429e-01 8.51469113e-01            nan]\n"
     ]
    }
   ],
   "source": [
    "print(np.array(correlations)[np.argsort(correlations)])"
   ]
  },
  {
   "cell_type": "code",
   "execution_count": 11,
   "metadata": {},
   "outputs": [],
   "source": [
    "if retrain:\n",
    "    cols = [c for c, p in zip(data.columns, correlations) if p<1E-2]\n",
    "    np.save('columns.npy', cols)\n",
    "else:\n",
    "    cols = np.load('columns.npy')"
   ]
  },
  {
   "cell_type": "code",
   "execution_count": 12,
   "metadata": {},
   "outputs": [],
   "source": [
    "x_train = data.sample(frac=0.8, random_state=100)\n",
    "x_test = data.drop(x_train.index)\n",
    "data_train = x_train\n",
    "data_test = x_test\n",
    "x_train = x_train[cols]\n",
    "x_test = x_test[cols]\n",
    "y_train_continuous = x_train.pop(\"true_score\")\n",
    "y_test_continuous = x_test.pop(\"true_score\")\n",
    "thresh = 0\n",
    "y_train = y_train_continuous > thresh\n",
    "y_test = y_test_continuous > thresh"
   ]
  },
  {
   "cell_type": "code",
   "execution_count": 13,
   "metadata": {},
   "outputs": [],
   "source": [
    "if retrain:\n",
    "    yp_train_list = []\n",
    "    yp_test_list = []\n",
    "    model_list = []\n",
    "    for i in range(10):\n",
    "        gbm = GradientBoostingClassifier(n_estimators=200)\n",
    "        gbm.fit(x_train, y_train)\n",
    "        yp_train_list.append(gbm.predict(x_train))\n",
    "        yp_test_list.append(gbm.predict(x_test))\n",
    "        model_list.append(gbm)\n",
    "        with open(f'gbm_ensemble_{i}.p', 'wb') as f:\n",
    "            pickle.dump(gbm, f)\n",
    "else:\n",
    "    model_list = []\n",
    "    yp_train_list = []\n",
    "    yp_test_list = []\n",
    "    model_list = []\n",
    "    for i in range(10):\n",
    "        with open(f'gbm_ensemble_{i}.p', 'rb') as f:\n",
    "            model_list.append(pickle.load(f))\n",
    "        yp_train_list.append(model_list[-1].predict(x_train))\n",
    "        yp_test_list.append(model_list[-1].predict(x_test))\n"
   ]
  },
  {
   "cell_type": "code",
   "execution_count": 14,
   "metadata": {},
   "outputs": [],
   "source": [
    "mean_train_prediction = np.mean(yp_train_list, axis=0)\n",
    "mean_test_prediction = np.mean(yp_test_list, axis=0)"
   ]
  },
  {
   "cell_type": "code",
   "execution_count": 15,
   "metadata": {},
   "outputs": [
    {
     "data": {
      "text/plain": [
       "<matplotlib.axes._subplots.AxesSubplot at 0x7f948fa30110>"
      ]
     },
     "execution_count": 15,
     "metadata": {},
     "output_type": "execute_result"
    },
    {
     "data": {
      "image/png": "[encoded data removed]",
      "text/plain": [
       "<Figure size 432x288 with 1 Axes>"
      ]
     },
     "metadata": {
      "needs_background": "light"
     },
     "output_type": "display_data"
    }
   ],
   "source": [
    "train_mask = y_train==1\n",
    "test_mask = y_test==1\n",
    "sns.scatterplot(y_train_continuous[train_mask], mean_train_prediction[train_mask])\n",
    "sns.scatterplot(y_test_continuous[test_mask], mean_test_prediction[test_mask])"
   ]
  },
  {
   "cell_type": "code",
   "execution_count": 16,
   "metadata": {},
   "outputs": [
    {
     "data": {
      "text/plain": [
       "<matplotlib.axes._subplots.AxesSubplot at 0x7f948fa12fd0>"
      ]
     },
     "execution_count": 16,
     "metadata": {},
     "output_type": "execute_result"
    },
    {
     "data": {
      "image/png": "[encoded data removed]",
      "text/plain": [
       "<Figure size 432x288 with 1 Axes>"
      ]
     },
     "metadata": {
      "needs_background": "light"
     },
     "output_type": "display_data"
    }
   ],
   "source": [
    "train_mask = y_train==0\n",
    "test_mask = y_test==0\n",
    "sns.scatterplot(y_train_continuous.index[train_mask], mean_train_prediction[train_mask])\n",
    "sns.scatterplot(y_test_continuous.index[test_mask], mean_test_prediction[test_mask])"
   ]
  },
  {
   "cell_type": "code",
   "execution_count": 17,
   "metadata": {},
   "outputs": [],
   "source": [
    "all_data['prettystring'] = all_data.apply(lambda x: '{} by {}'.format(x.title, x.author), axis=1)\n",
    "prettystring = all_data.pop('prettystring')"
   ]
  },
  {
   "cell_type": "code",
   "execution_count": 18,
   "metadata": {},
   "outputs": [],
   "source": [
    "y_train_comp = pd.DataFrame({'continuous': y_train_continuous, 'discrete': y_train, 'prediction': mean_train_prediction})\n",
    "y_test_comp = pd.DataFrame({'continuous': y_test_continuous, 'discrete': y_test, 'prediction': mean_test_prediction})"
   ]
  },
  {
   "cell_type": "code",
   "execution_count": 19,
   "metadata": {},
   "outputs": [
    {
     "data": {
      "text/plain": [
       "584                  The Windup Girl by Paolo Bacigalupi\n",
       "689                          Boneshaker by Cherie Priest\n",
       "1295                      Luna: New Moon by Ian McDonald\n",
       "876                              Vengeful by V.E. Schwab\n",
       "1029                    The Peripheral by William Gibson\n",
       "657                      Shades of Grey by Jasper Fforde\n",
       "413                        Tomorrow's Kin by Nancy Kress\n",
       "583               The Aeronaut's Windlass by Jim Butcher\n",
       "216                  Palimpsest by Catherynne M. Valente\n",
       "1148              The Aeronaut's Windlass by Jim Butcher\n",
       "531                Great North Road by Peter F. Hamilton\n",
       "443                Unseen Academicals by Terry Pratchett\n",
       "38              The Golem and the Jinni by Helene Wecker\n",
       "961                    Who Fears Death by Nnedi Okorafor\n",
       "551                     Ship Breaker by Paolo Bacigalupi\n",
       "957     The Rise and Fall of D.O.D.O. by Neal Stephenson\n",
       "954        The Hundred Thousand Kingdoms by N.K. Jemisin\n",
       "673              The Wise Man's Fear by Patrick Rothfuss\n",
       "272                 Space Opera by Catherynne M. Valente\n",
       "1787                      Seven Surrenders by Ada Palmer\n",
       "927                          The Poppy War by R.F. Kuang\n",
       "Name: prettystring, dtype: object"
      ]
     },
     "execution_count": 19,
     "metadata": {},
     "output_type": "execute_result"
    }
   ],
   "source": [
    "prettystring.loc[y_train_comp.index[y_train_comp['discrete']!=y_train_comp['prediction']]]"
   ]
  },
  {
   "cell_type": "code",
   "execution_count": 20,
   "metadata": {},
   "outputs": [
    {
     "data": {
      "text/html": [
       "<div>\n",
       "<style scoped>\n",
       "    .dataframe tbody tr th:only-of-type {\n",
       "        vertical-align: middle;\n",
       "    }\n",
       "\n",
       "    .dataframe tbody tr th {\n",
       "        vertical-align: top;\n",
       "    }\n",
       "\n",
       "    .dataframe thead th {\n",
       "        text-align: right;\n",
       "    }\n",
       "</style>\n",
       "<table border=\"1\" class=\"dataframe\">\n",
       "  <thead>\n",
       "    <tr style=\"text-align: right;\">\n",
       "      <th></th>\n",
       "      <th>continuous</th>\n",
       "      <th>discrete</th>\n",
       "      <th>prediction</th>\n",
       "    </tr>\n",
       "  </thead>\n",
       "  <tbody>\n",
       "    <tr>\n",
       "      <td>584</td>\n",
       "      <td>1.000000</td>\n",
       "      <td>True</td>\n",
       "      <td>0.0</td>\n",
       "    </tr>\n",
       "    <tr>\n",
       "      <td>689</td>\n",
       "      <td>0.329167</td>\n",
       "      <td>True</td>\n",
       "      <td>0.0</td>\n",
       "    </tr>\n",
       "    <tr>\n",
       "      <td>1295</td>\n",
       "      <td>0.000000</td>\n",
       "      <td>False</td>\n",
       "      <td>1.0</td>\n",
       "    </tr>\n",
       "    <tr>\n",
       "      <td>876</td>\n",
       "      <td>0.000000</td>\n",
       "      <td>False</td>\n",
       "      <td>1.0</td>\n",
       "    </tr>\n",
       "    <tr>\n",
       "      <td>1029</td>\n",
       "      <td>0.000000</td>\n",
       "      <td>False</td>\n",
       "      <td>1.0</td>\n",
       "    </tr>\n",
       "    <tr>\n",
       "      <td>657</td>\n",
       "      <td>0.000000</td>\n",
       "      <td>False</td>\n",
       "      <td>1.0</td>\n",
       "    </tr>\n",
       "    <tr>\n",
       "      <td>413</td>\n",
       "      <td>0.000000</td>\n",
       "      <td>False</td>\n",
       "      <td>0.3</td>\n",
       "    </tr>\n",
       "    <tr>\n",
       "      <td>583</td>\n",
       "      <td>0.264190</td>\n",
       "      <td>True</td>\n",
       "      <td>0.0</td>\n",
       "    </tr>\n",
       "    <tr>\n",
       "      <td>216</td>\n",
       "      <td>0.295833</td>\n",
       "      <td>True</td>\n",
       "      <td>0.0</td>\n",
       "    </tr>\n",
       "    <tr>\n",
       "      <td>1148</td>\n",
       "      <td>0.264190</td>\n",
       "      <td>True</td>\n",
       "      <td>0.0</td>\n",
       "    </tr>\n",
       "    <tr>\n",
       "      <td>531</td>\n",
       "      <td>0.000000</td>\n",
       "      <td>False</td>\n",
       "      <td>1.0</td>\n",
       "    </tr>\n",
       "    <tr>\n",
       "      <td>443</td>\n",
       "      <td>0.233804</td>\n",
       "      <td>True</td>\n",
       "      <td>0.0</td>\n",
       "    </tr>\n",
       "    <tr>\n",
       "      <td>38</td>\n",
       "      <td>0.340274</td>\n",
       "      <td>True</td>\n",
       "      <td>0.0</td>\n",
       "    </tr>\n",
       "    <tr>\n",
       "      <td>961</td>\n",
       "      <td>0.776224</td>\n",
       "      <td>True</td>\n",
       "      <td>0.0</td>\n",
       "    </tr>\n",
       "    <tr>\n",
       "      <td>551</td>\n",
       "      <td>0.629371</td>\n",
       "      <td>True</td>\n",
       "      <td>0.0</td>\n",
       "    </tr>\n",
       "    <tr>\n",
       "      <td>957</td>\n",
       "      <td>0.000000</td>\n",
       "      <td>False</td>\n",
       "      <td>0.3</td>\n",
       "    </tr>\n",
       "    <tr>\n",
       "      <td>954</td>\n",
       "      <td>0.818182</td>\n",
       "      <td>True</td>\n",
       "      <td>0.0</td>\n",
       "    </tr>\n",
       "    <tr>\n",
       "      <td>673</td>\n",
       "      <td>0.143998</td>\n",
       "      <td>True</td>\n",
       "      <td>0.0</td>\n",
       "    </tr>\n",
       "    <tr>\n",
       "      <td>272</td>\n",
       "      <td>0.406295</td>\n",
       "      <td>True</td>\n",
       "      <td>0.0</td>\n",
       "    </tr>\n",
       "    <tr>\n",
       "      <td>1787</td>\n",
       "      <td>0.238748</td>\n",
       "      <td>True</td>\n",
       "      <td>0.0</td>\n",
       "    </tr>\n",
       "    <tr>\n",
       "      <td>927</td>\n",
       "      <td>0.297788</td>\n",
       "      <td>True</td>\n",
       "      <td>0.0</td>\n",
       "    </tr>\n",
       "  </tbody>\n",
       "</table>\n",
       "</div>"
      ],
      "text/plain": [
       "      continuous  discrete  prediction\n",
       "584     1.000000      True         0.0\n",
       "689     0.329167      True         0.0\n",
       "1295    0.000000     False         1.0\n",
       "876     0.000000     False         1.0\n",
       "1029    0.000000     False         1.0\n",
       "657     0.000000     False         1.0\n",
       "413     0.000000     False         0.3\n",
       "583     0.264190      True         0.0\n",
       "216     0.295833      True         0.0\n",
       "1148    0.264190      True         0.0\n",
       "531     0.000000     False         1.0\n",
       "443     0.233804      True         0.0\n",
       "38      0.340274      True         0.0\n",
       "961     0.776224      True         0.0\n",
       "551     0.629371      True         0.0\n",
       "957     0.000000     False         0.3\n",
       "954     0.818182      True         0.0\n",
       "673     0.143998      True         0.0\n",
       "272     0.406295      True         0.0\n",
       "1787    0.238748      True         0.0\n",
       "927     0.297788      True         0.0"
      ]
     },
     "execution_count": 20,
     "metadata": {},
     "output_type": "execute_result"
    }
   ],
   "source": [
    "y_train_comp.loc[y_train_comp.index[y_train_comp['discrete']!=y_train_comp['prediction']]]"
   ]
  },
  {
   "cell_type": "code",
   "execution_count": 21,
   "metadata": {},
   "outputs": [
    {
     "data": {
      "text/plain": [
       "224                            Wool Omnibus by Hugh Howey\n",
       "293                     Misheard Lyrics by Mike Ellsworth\n",
       "450                                Gemina by Amie Kaufman\n",
       "870                          Hull Zero Three by Greg Bear\n",
       "905     Julian Comstock: A Story of 22nd-Century Ameri...\n",
       "1217                         Seveneves by Neal Stephenson\n",
       "1557                               Reached by Ally Condie\n",
       "Name: prettystring, dtype: object"
      ]
     },
     "execution_count": 21,
     "metadata": {},
     "output_type": "execute_result"
    }
   ],
   "source": [
    "prettystring.loc[y_test_comp.index[y_test_comp['discrete']!=y_test_comp['prediction']]]"
   ]
  },
  {
   "cell_type": "code",
   "execution_count": 22,
   "metadata": {},
   "outputs": [
    {
     "data": {
      "text/html": [
       "<div>\n",
       "<style scoped>\n",
       "    .dataframe tbody tr th:only-of-type {\n",
       "        vertical-align: middle;\n",
       "    }\n",
       "\n",
       "    .dataframe tbody tr th {\n",
       "        vertical-align: top;\n",
       "    }\n",
       "\n",
       "    .dataframe thead th {\n",
       "        text-align: right;\n",
       "    }\n",
       "</style>\n",
       "<table border=\"1\" class=\"dataframe\">\n",
       "  <thead>\n",
       "    <tr style=\"text-align: right;\">\n",
       "      <th></th>\n",
       "      <th>continuous</th>\n",
       "      <th>discrete</th>\n",
       "      <th>prediction</th>\n",
       "    </tr>\n",
       "  </thead>\n",
       "  <tbody>\n",
       "    <tr>\n",
       "      <td>224</td>\n",
       "      <td>0.000000</td>\n",
       "      <td>False</td>\n",
       "      <td>1.0</td>\n",
       "    </tr>\n",
       "    <tr>\n",
       "      <td>293</td>\n",
       "      <td>0.000000</td>\n",
       "      <td>False</td>\n",
       "      <td>1.0</td>\n",
       "    </tr>\n",
       "    <tr>\n",
       "      <td>450</td>\n",
       "      <td>1.000000</td>\n",
       "      <td>True</td>\n",
       "      <td>0.0</td>\n",
       "    </tr>\n",
       "    <tr>\n",
       "      <td>870</td>\n",
       "      <td>0.000000</td>\n",
       "      <td>False</td>\n",
       "      <td>1.0</td>\n",
       "    </tr>\n",
       "    <tr>\n",
       "      <td>905</td>\n",
       "      <td>0.333333</td>\n",
       "      <td>True</td>\n",
       "      <td>0.0</td>\n",
       "    </tr>\n",
       "    <tr>\n",
       "      <td>1217</td>\n",
       "      <td>0.444788</td>\n",
       "      <td>True</td>\n",
       "      <td>0.2</td>\n",
       "    </tr>\n",
       "    <tr>\n",
       "      <td>1557</td>\n",
       "      <td>1.000000</td>\n",
       "      <td>True</td>\n",
       "      <td>0.0</td>\n",
       "    </tr>\n",
       "  </tbody>\n",
       "</table>\n",
       "</div>"
      ],
      "text/plain": [
       "      continuous  discrete  prediction\n",
       "224     0.000000     False         1.0\n",
       "293     0.000000     False         1.0\n",
       "450     1.000000      True         0.0\n",
       "870     0.000000     False         1.0\n",
       "905     0.333333      True         0.0\n",
       "1217    0.444788      True         0.2\n",
       "1557    1.000000      True         0.0"
      ]
     },
     "execution_count": 22,
     "metadata": {},
     "output_type": "execute_result"
    }
   ],
   "source": [
    "y_test_comp.loc[y_test_comp.index[y_test_comp['discrete']!=y_test_comp['prediction']]]"
   ]
  },
  {
   "cell_type": "code",
   "execution_count": 23,
   "metadata": {},
   "outputs": [],
   "source": [
    "# Now try a regressor to rank things that were coded \"winners\"\n",
    "x_train_regression = x_train[mean_train_prediction>0]\n",
    "y_train_regression = y_train_continuous[mean_train_prediction>0]\n",
    "x_test_regression = x_test[mean_test_prediction>0]\n",
    "y_test_regression = y_test_continuous[mean_test_prediction>0]"
   ]
  },
  {
   "cell_type": "code",
   "execution_count": 24,
   "metadata": {},
   "outputs": [],
   "source": [
    "if retrain:\n",
    "    yp_train_regression_list = []\n",
    "    yp_test_regression_list = []\n",
    "    regression_model_list = []\n",
    "    for i in range(10):\n",
    "        xtr = x_train_regression.sample(frac=1, replace=True)\n",
    "        ytr = y_train_regression[xtr.index]\n",
    "        gbm = GradientBoostingRegressor(n_estimators=200)\n",
    "        gbm.fit(xtr, ytr)\n",
    "        yp_train_regression_list.append(gbm.predict(x_train_regression))\n",
    "        yp_test_regression_list.append(gbm.predict(x_test_regression))\n",
    "        regression_model_list.append(gbm)\n",
    "        with open(f'gbm_regressor_ensemble_{i}.p', 'wb') as f:\n",
    "            pickle.dump(gbm, f)\n",
    "else:\n",
    "    yp_train_regression_list = []\n",
    "    yp_test_regression_list = []\n",
    "    regression_model_list = []\n",
    "    for i in range(10):\n",
    "        with open(f'gbm_regressor_ensemble_{i}.p', 'rb') as f:\n",
    "            regression_model_list.append(pickle.load(f))\n",
    "        yp_train_regression_list.append(regression_model_list[-1].predict(x_train_regression))\n",
    "        yp_test_regression_list.append(regression_model_list[-1].predict(x_test_regression))"
   ]
  },
  {
   "cell_type": "code",
   "execution_count": 25,
   "metadata": {},
   "outputs": [],
   "source": [
    "mean_train_regression_prediction = np.mean(yp_train_regression_list, axis=0)\n",
    "mean_test_regression_prediction = np.mean(yp_test_regression_list, axis=0)"
   ]
  },
  {
   "cell_type": "code",
   "execution_count": 64,
   "metadata": {},
   "outputs": [
    {
     "data": {
      "text/plain": [
       "<matplotlib.legend.Legend at 0x7f948f070b10>"
      ]
     },
     "execution_count": 64,
     "metadata": {},
     "output_type": "execute_result"
    },
    {
     "data": {
      "image/png": "[encoded data removed]",
      "text/plain": [
       "<Figure size 432x288 with 1 Axes>"
      ]
     },
     "metadata": {
      "needs_background": "light"
     },
     "output_type": "display_data"
    }
   ],
   "source": [
    "sns.scatterplot(y_train_regression, mean_train_regression_prediction, label=\"Train\")\n",
    "sns.scatterplot(y_test_regression, mean_test_regression_prediction, label=\"Test\")\n",
    "plt.xlabel(\"True score\")\n",
    "plt.ylabel(\"Predicted score\")\n",
    "plt.legend()"
   ]
  },
  {
   "cell_type": "code",
   "execution_count": 27,
   "metadata": {},
   "outputs": [],
   "source": [
    "x_train_regression_notselected = x_train[mean_train_prediction==0]\n",
    "y_train_regression_notselected = y_train_continuous[mean_train_prediction==0]\n",
    "x_test_regression_notselected = x_test[mean_test_prediction==0]\n",
    "y_test_regression_notselected = y_test_continuous[mean_test_prediction==0]"
   ]
  },
  {
   "cell_type": "code",
   "execution_count": 29,
   "metadata": {},
   "outputs": [],
   "source": [
    "yp_train_regression_notselected_list = []\n",
    "yp_test_regression_notselected_list = []\n",
    "for model in regression_model_list:\n",
    "    yp_train_regression_notselected_list.append(model.predict(x_train_regression_notselected))\n",
    "    yp_test_regression_notselected_list.append(model.predict(x_test_regression_notselected))\n"
   ]
  },
  {
   "cell_type": "code",
   "execution_count": 30,
   "metadata": {},
   "outputs": [],
   "source": [
    "mean_train_regression_notselected_prediction = np.mean(yp_train_regression_notselected_list, axis=0)\n",
    "mean_test_regression_notselected_prediction = np.mean(yp_test_regression_notselected_list, axis=0)"
   ]
  },
  {
   "cell_type": "code",
   "execution_count": 31,
   "metadata": {},
   "outputs": [
    {
     "data": {
      "text/plain": [
       "<matplotlib.axes._subplots.AxesSubplot at 0x7f948f8679d0>"
      ]
     },
     "execution_count": 31,
     "metadata": {},
     "output_type": "execute_result"
    },
    {
     "data": {
      "image/png": "[encoded data removed]",
      "text/plain": [
       "<Figure size 432x288 with 1 Axes>"
      ]
     },
     "metadata": {
      "needs_background": "light"
     },
     "output_type": "display_data"
    }
   ],
   "source": [
    "sns.scatterplot(y_train_regression_notselected, mean_train_regression_notselected_prediction)\n",
    "sns.scatterplot(y_test_regression_notselected, mean_test_regression_notselected_prediction)"
   ]
  },
  {
   "cell_type": "code",
   "execution_count": 32,
   "metadata": {},
   "outputs": [],
   "source": [
    "query = \"SELECT * FROM works_withgenrelang\"\n",
    "all_data = pd.read_sql_query(query, con)"
   ]
  },
  {
   "cell_type": "code",
   "execution_count": 33,
   "metadata": {},
   "outputs": [
    {
     "name": "stdout",
     "output_type": "stream",
     "text": [
      "Languages: ['English']\n"
     ]
    }
   ],
   "source": [
    "data, mask = make_regression_array(all_data, keep_short_stories = True)\n",
    "all_data = all_data[mask]"
   ]
  },
  {
   "cell_type": "code",
   "execution_count": 34,
   "metadata": {},
   "outputs": [],
   "source": [
    "data = data[cols].drop(columns='true_score')"
   ]
  },
  {
   "cell_type": "code",
   "execution_count": 35,
   "metadata": {},
   "outputs": [],
   "source": [
    "yc_list = []\n",
    "for model in model_list:\n",
    "    yc_list.append(model.predict(data))\n",
    "nominee = np.max(yc_list, axis=0)\n",
    "\n",
    "ys_list = []\n",
    "for model in regression_model_list:\n",
    "    ys_list.append(model.predict(data))\n",
    "score = np.mean(ys_list, axis=0)\n",
    "yes_mask = nominee>0\n",
    "ymin = score[yes_mask].min()\n",
    "ymax = score[yes_mask].max()\n",
    "score[yes_mask] = 0.5+0.5*(score[yes_mask]-ymin)/(ymax-ymin)\n",
    "nmin = score[~yes_mask].min()\n",
    "nmax = score[~yes_mask].max()\n",
    "score[~yes_mask] = 0.5*(score[~yes_mask]-nmin)/(nmax-nmin)"
   ]
  },
  {
   "cell_type": "code",
   "execution_count": 36,
   "metadata": {},
   "outputs": [
    {
     "name": "stdout",
     "output_type": "stream",
     "text": [
      "0.5 1.0 0.0 0.5\n"
     ]
    }
   ],
   "source": [
    "print(score[yes_mask].min(), score[yes_mask].max(), score[~yes_mask].min(), score[~yes_mask].max())"
   ]
  },
  {
   "cell_type": "code",
   "execution_count": 37,
   "metadata": {},
   "outputs": [],
   "source": [
    "all_data['pred_score'] = score"
   ]
  },
  {
   "cell_type": "code",
   "execution_count": 52,
   "metadata": {},
   "outputs": [
    {
     "name": "stdout",
     "output_type": "stream",
     "text": [
      "4 J.K. Rowling Harry Potter and the Chamber of Secrets 0.19077477197168852 0.0\n",
      "13 J.K. Rowling Harry Potter and the Goblet of Fire 0.20756352992123303 1.0\n",
      "62 J.K. Rowling Harry Potter and the Deathly Hallows 0.2281301227483583 0.423076923076923\n",
      "455 J.K. Rowling Harry Potter and the Sorcerer's Stone 0.1841421933645657 0.0\n",
      "591 J.K. Rowling Harry Potter and the Half-Blood Prince 0.2907894099812206 0.235959595959596\n",
      "653 J.K. Rowling Fantastic Beasts and Where to Find Them: The Original Screenplay 0.22003139023863252 0.0\n",
      "880 J.K. Rowling The Tales of Beedle the Bard 0.6601009674658593 0.0\n",
      "993 J.K. Rowling Harry Potter and the Order of the Phoenix 0.19342610697740373 0.229972247918594\n",
      "1191 J.K. Rowling Harry Potter and the Prisoner of Azkaban 0.1978129430123162 0.613821138211382\n",
      "1408 J.K. Rowling Harry Potter Series Box Set 0.22120678051807166 0.0\n",
      "1504 J.K. Rowling Harry Potter and the Cursed Child: Parts One and Two 0.2296078753248164 0.0\n"
     ]
    }
   ],
   "source": [
    "for idx, row in all_data.iterrows():\n",
    "    if \"Rowling\" in row['author']:\n",
    "        print(idx, row['author'], row['title'], row['pred_score'], row['true_score'])"
   ]
  },
  {
   "cell_type": "code",
   "execution_count": 61,
   "metadata": {},
   "outputs": [
    {
     "name": "stdout",
     "output_type": "stream",
     "text": [
      "Empty DataFrame\n",
      "Columns: [continuous, discrete, prediction]\n",
      "Index: []\n"
     ]
    }
   ],
   "source": [
    "print(y_test_comp[y_test_comp.index==13])"
   ]
  },
  {
   "cell_type": "code",
   "execution_count": null,
   "metadata": {},
   "outputs": [],
   "source": [
    "print(cols)\n",
    "raise RuntimeError()"
   ]
  },
  {
   "cell_type": "code",
   "execution_count": null,
   "metadata": {},
   "outputs": [],
   "source": [
    "def make_datasets_readinglevel(data):\n",
    "    tdata = data.copy()\n",
    "    res = []\n",
    "    for ya in [data['ya'].min(), data['ya'].max()]:\n",
    "        for children in [data['children'].min(), data['children'].max()]:\n",
    "            tdata['ya'] = ya\n",
    "            tdata['children'] = children\n",
    "            yield tdata\n",
    "\n",
    "def make_datasets_booktype(data):\n",
    "    tdata = data.copy()\n",
    "    res = []\n",
    "    for ss in [data['short_stories'].min(), data['short_stories'].max()]:\n",
    "        tdata['short_stories'] = ss\n",
    "        yield tdata\n",
    "\n",
    "def make_datasets_author(data):\n",
    "    tdata = data.copy()\n",
    "    for aviews in np.linspace(\n",
    "            data['author_annualviews'].min(), data['author_annualviews'].max(), 10):\n",
    "        for nprev in range(max(data['nprev'])):\n",
    "            tdata['author_annualviews'] = aviews\n",
    "            tdata['nprev'] = nprev\n",
    "            yield tdata\n"
   ]
  },
  {
   "cell_type": "code",
   "execution_count": null,
   "metadata": {},
   "outputs": [],
   "source": [
    "# Marginalize over reading level\n",
    "yc_list = []\n",
    "for tdata in make_datasets_readinglevel(data):\n",
    "    for model in model_list:\n",
    "        yc_list.append(model.predict(tdata))\n",
    "nominee = np.mean(yc_list, axis=0)>0.1\n",
    "\n",
    "ys_list = []\n",
    "for tdata in make_datasets_readinglevel(data):\n",
    "    for model in regression_model_list:\n",
    "        ys_list.append(model.predict(tdata))\n",
    "score = np.mean(ys_list, axis=0)\n",
    "yes_mask = nominee>0\n",
    "ymin = score[yes_mask].min()\n",
    "ymax = score[yes_mask].max()\n",
    "score[yes_mask] = 0.5+0.5*(score[yes_mask]-ymin)/(ymax-ymin)\n",
    "nmin = score[~yes_mask].min()\n",
    "nmax = score[~yes_mask].max()\n",
    "score[~yes_mask] = 0.5*(score[~yes_mask]-nmin)/(nmax-nmin)\n",
    "\n",
    "all_data['pred_score_readinglevel'] = score"
   ]
  },
  {
   "cell_type": "code",
   "execution_count": null,
   "metadata": {},
   "outputs": [],
   "source": [
    "# Marginalize over book type\n",
    "yc_list = []\n",
    "for tdata in make_datasets_booktype(data):\n",
    "    for model in model_list:\n",
    "        yc_list.append(model.predict(tdata))\n",
    "nominee = np.mean(yc_list, axis=0)>0.1\n",
    "\n",
    "ys_list = []\n",
    "for tdata in make_datasets_booktype(data):\n",
    "    for model in regression_model_list:\n",
    "        ys_list.append(model.predict(tdata))\n",
    "score = np.mean(ys_list, axis=0)\n",
    "yes_mask = nominee>0\n",
    "ymin = score[yes_mask].min()\n",
    "ymax = score[yes_mask].max()\n",
    "score[yes_mask] = 0.5+0.5*(score[yes_mask]-ymin)/(ymax-ymin)\n",
    "nmin = score[~yes_mask].min()\n",
    "nmax = score[~yes_mask].max()\n",
    "score[~yes_mask] = 0.5*(score[~yes_mask]-nmin)/(nmax-nmin)\n",
    "\n",
    "all_data['pred_score_booktype'] = score"
   ]
  },
  {
   "cell_type": "code",
   "execution_count": null,
   "metadata": {},
   "outputs": [],
   "source": [
    "# Marginalize over authorship\n",
    "yc_list = []\n",
    "for tdata in make_datasets_author(data):\n",
    "    for model in model_list:\n",
    "        yc_list.append(model.predict(tdata))\n",
    "nominee = np.mean(yc_list, axis=0)>0.1\n",
    "\n",
    "ys_list = []\n",
    "for tdata in make_datasets_author(data):\n",
    "    for model in regression_model_list:\n",
    "        ys_list.append(model.predict(tdata))\n",
    "score = np.mean(ys_list, axis=0)\n",
    "yes_mask = nominee>0\n",
    "ymin = score[yes_mask].min()\n",
    "ymax = score[yes_mask].max()\n",
    "score[yes_mask] = 0.5+0.5*(score[yes_mask]-ymin)/(ymax-ymin)\n",
    "nmin = score[~yes_mask].min()\n",
    "nmax = score[~yes_mask].max()\n",
    "score[~yes_mask] = 0.5*(score[~yes_mask]-nmin)/(nmax-nmin)\n",
    "\n",
    "all_data['pred_score_author'] = score"
   ]
  },
  {
   "cell_type": "code",
   "execution_count": null,
   "metadata": {},
   "outputs": [],
   "source": [
    "# Marginalize over reading level and book type\n",
    "yc_list = []\n",
    "for ttdata in make_datasets_readinglevel(data):\n",
    "    for tdata in make_datasets_booktype(ttdata):\n",
    "        for model in model_list:\n",
    "            yc_list.append(model.predict(tdata))\n",
    "nominee = np.mean(yc_list, axis=0)>0.1\n",
    "\n",
    "ys_list = []\n",
    "for ttdata in make_datasets_readinglevel(data):\n",
    "    for tdata in make_datasets_booktype(ttdata):\n",
    "        for model in regression_model_list:\n",
    "            ys_list.append(model.predict(tdata))\n",
    "score = np.mean(ys_list, axis=0)\n",
    "yes_mask = nominee>0\n",
    "ymin = score[yes_mask].min()\n",
    "ymax = score[yes_mask].max()\n",
    "score[yes_mask] = 0.5+0.5*(score[yes_mask]-ymin)/(ymax-ymin)\n",
    "nmin = score[~yes_mask].min()\n",
    "nmax = score[~yes_mask].max()\n",
    "score[~yes_mask] = 0.5*(score[~yes_mask]-nmin)/(nmax-nmin)\n",
    "\n",
    "all_data['pred_score_readinglevel_booktype'] = score"
   ]
  },
  {
   "cell_type": "code",
   "execution_count": null,
   "metadata": {},
   "outputs": [],
   "source": [
    "# Marginalize over reading level and authorship\n",
    "yc_list = []\n",
    "for ttdata in make_datasets_readinglevel(data):\n",
    "    for tdata in make_datasets_author(ttdata):\n",
    "        for model in model_list:\n",
    "            yc_list.append(model.predict(tdata))\n",
    "nominee = np.mean(yc_list, axis=0) > 0.2\n",
    "\n",
    "ys_list = []\n",
    "for ttdata in make_datasets_readinglevel(data):\n",
    "    for tdata in make_datasets_author(ttdata):\n",
    "        for model in regression_model_list:\n",
    "            ys_list.append(model.predict(tdata))\n",
    "score = np.mean(ys_list, axis=0)\n",
    "yes_mask = nominee>0\n",
    "ymin = score[yes_mask].min()\n",
    "ymax = score[yes_mask].max()\n",
    "score[yes_mask] = 0.5+0.5*(score[yes_mask]-ymin)/(ymax-ymin)\n",
    "nmin = score[~yes_mask].min()\n",
    "nmax = score[~yes_mask].max()\n",
    "score[~yes_mask] = 0.5*(score[~yes_mask]-nmin)/(nmax-nmin)\n",
    "\n",
    "all_data['pred_score_readinglevel_author'] = score"
   ]
  },
  {
   "cell_type": "code",
   "execution_count": null,
   "metadata": {},
   "outputs": [],
   "source": [
    "# Marginalize over book type and authorship\n",
    "yc_list = []\n",
    "for ttdata in make_datasets_booktype(data):\n",
    "    for tdata in make_datasets_author(ttdata):\n",
    "        for model in model_list:\n",
    "            yc_list.append(model.predict(tdata))\n",
    "nominee = np.mean(yc_list, axis=0) > 0.2\n",
    "\n",
    "ys_list = []\n",
    "for ttdata in make_datasets_booktype(data):\n",
    "    for tdata in make_datasets_author(ttdata):\n",
    "        for model in regression_model_list:\n",
    "            ys_list.append(model.predict(tdata))\n",
    "score = np.mean(ys_list, axis=0)\n",
    "yes_mask = nominee>0\n",
    "ymin = score[yes_mask].min()\n",
    "ymax = score[yes_mask].max()\n",
    "score[yes_mask] = 0.5+0.5*(score[yes_mask]-ymin)/(ymax-ymin)\n",
    "nmin = score[~yes_mask].min()\n",
    "nmax = score[~yes_mask].max()\n",
    "score[~yes_mask] = 0.5*(score[~yes_mask]-nmin)/(nmax-nmin)\n",
    "\n",
    "all_data['pred_score_booktype_author'] = score"
   ]
  },
  {
   "cell_type": "code",
   "execution_count": null,
   "metadata": {},
   "outputs": [],
   "source": [
    "# Marginalize over all three\n",
    "yc_list = []\n",
    "for tttdata in make_datasets_readinglevel(data):\n",
    "    for ttdata in make_datasets_booktype(tttdata):\n",
    "        for tdata in make_datasets_author(ttdata):\n",
    "            for model in model_list:\n",
    "                yc_list.append(model.predict(tdata))\n",
    "nominee = np.mean(yc_list, axis=0)>0.3\n",
    "\n",
    "ys_list = []\n",
    "for tttdata in make_datasets_readinglevel(data):\n",
    "    for ttdata in make_datasets_booktype(tttdata):\n",
    "        for tdata in make_datasets_author(ttdata):\n",
    "            for model in regression_model_list:\n",
    "                ys_list.append(model.predict(tdata))\n",
    "score = np.mean(ys_list, axis=0)\n",
    "yes_mask = nominee>0\n",
    "ymin = score[yes_mask].min()\n",
    "ymax = score[yes_mask].max()\n",
    "score[yes_mask] = 0.5+0.5*(score[yes_mask]-ymin)/(ymax-ymin)\n",
    "nmin = score[~yes_mask].min()\n",
    "nmax = score[~yes_mask].max()\n",
    "score[~yes_mask] = 0.5*(score[~yes_mask]-nmin)/(nmax-nmin)\n",
    "\n",
    "all_data['pred_score_readinglevel_booktype_author'] = score"
   ]
  },
  {
   "cell_type": "code",
   "execution_count": null,
   "metadata": {},
   "outputs": [],
   "source": [
    "all_data.columns"
   ]
  },
  {
   "cell_type": "code",
   "execution_count": null,
   "metadata": {},
   "outputs": [],
   "source": [
    "all_data = all_data.drop(columns=['level_0', 'index'])"
   ]
  },
  {
   "cell_type": "code",
   "execution_count": null,
   "metadata": {},
   "outputs": [],
   "source": [
    "engine = create_engine('postgresql://{}:{}@{}:{}/{}'.format(username, password, host, port, db_name))"
   ]
  },
  {
   "cell_type": "code",
   "execution_count": null,
   "metadata": {},
   "outputs": [],
   "source": [
    "#all_data.to_sql('works_flask', engine, if_exists='replace') "
   ]
  },
  {
   "cell_type": "code",
   "execution_count": null,
   "metadata": {},
   "outputs": [],
   "source": [
    "genre_data = all_data[[col for col in all_data.columns if col[:5]=='genre']]"
   ]
  },
  {
   "cell_type": "code",
   "execution_count": null,
   "metadata": {},
   "outputs": [],
   "source": [
    "genre_min = np.min(genre_data, axis=1)"
   ]
  },
  {
   "cell_type": "code",
   "execution_count": null,
   "metadata": {},
   "outputs": [],
   "source": [
    "genre_min.shape"
   ]
  },
  {
   "cell_type": "code",
   "execution_count": null,
   "metadata": {},
   "outputs": [],
   "source": [
    "genre_cutoff = genre_min+0.2"
   ]
  },
  {
   "cell_type": "code",
   "execution_count": null,
   "metadata": {},
   "outputs": [],
   "source": [
    "genre_cutoff[(genre_cutoff>=0.5) & (genre_cutoff<=0.7)] = 0.5"
   ]
  },
  {
   "cell_type": "code",
   "execution_count": null,
   "metadata": {},
   "outputs": [],
   "source": [
    "genre_cutoff[genre_cutoff>=0.7] = genre_min[genre_cutoff>=0.7]"
   ]
  },
  {
   "cell_type": "code",
   "execution_count": null,
   "metadata": {},
   "outputs": [],
   "source": [
    "genre_data = genre_data<=genre_cutoff[:,None]"
   ]
  },
  {
   "cell_type": "code",
   "execution_count": null,
   "metadata": {},
   "outputs": [],
   "source": [
    "np.sum(genre_data, axis=1).value_counts()"
   ]
  },
  {
   "cell_type": "code",
   "execution_count": null,
   "metadata": {},
   "outputs": [],
   "source": [
    "for i in range(10):\n",
    "    all_data['is_genre{}'.format(i)] = genre_data['genre{}'.format(i)]"
   ]
  },
  {
   "cell_type": "code",
   "execution_count": null,
   "metadata": {},
   "outputs": [],
   "source": [
    "cur = con.cursor()\n",
    "#cur.execute(\"drop table works_flask;\")\n",
    "con.commit()"
   ]
  },
  {
   "cell_type": "code",
   "execution_count": null,
   "metadata": {},
   "outputs": [],
   "source": [
    "all_data.to_sql('works_flask', engine, if_exists='replace') "
   ]
  },
  {
   "cell_type": "code",
   "execution_count": null,
   "metadata": {},
   "outputs": [],
   "source": []
  }
 ],
 "metadata": {
  "kernelspec": {
   "display_name": "Python (goodreads)",
   "language": "python",
   "name": "goodreads"
  },
  "language_info": {
   "codemirror_mode": {
    "name": "ipython",
    "version": 3
   },
   "file_extension": ".py",
   "mimetype": "text/x-python",
   "name": "python",
   "nbconvert_exporter": "python",
   "pygments_lexer": "ipython3",
   "version": "3.7.4"
  }
 },
 "nbformat": 4,
 "nbformat_minor": 2
}
