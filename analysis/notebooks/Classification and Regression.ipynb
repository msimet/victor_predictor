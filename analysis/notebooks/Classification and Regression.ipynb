{
 "cells": [
  {
   "cell_type": "code",
   "execution_count": 1,
   "metadata": {},
   "outputs": [],
   "source": [
    "import pickle\n",
    "import seaborn as sns\n",
    "import numpy as np\n",
    "import pandas as pd\n",
    "import matplotlib.pyplot as plt\n",
    "import psycopg2\n",
    "from scipy.stats import spearmanr\n",
    "from sklearn.neural_network import MLPRegressor\n",
    "from sklearn.ensemble import GradientBoostingClassifier, GradientBoostingRegressor\n",
    "from sklearn.metrics import confusion_matrix\n",
    "from sqlalchemy import create_engine\n",
    "from sqlalchemy_utils import database_exists, create_database, drop_database\n",
    "from utils import make_regression_array"
   ]
  },
  {
   "cell_type": "code",
   "execution_count": 2,
   "metadata": {},
   "outputs": [],
   "source": [
    "retrain = False"
   ]
  },
  {
   "cell_type": "code",
   "execution_count": 3,
   "metadata": {},
   "outputs": [],
   "source": [
    "sns.set_style('white')\n",
    "\n",
    "small_size = 18\n",
    "medium_size = 20\n",
    "bigger_size = 22\n",
    "\n",
    "plt.rc('font', size=small_size)          # controls default text sizes\n",
    "plt.rc('axes', titlesize=small_size)     # fontsize of the axes title\n",
    "plt.rc('axes', labelsize=medium_size)    # fontsize of the x and y labels\n",
    "plt.rc('xtick', labelsize=small_size)    # fontsize of the tick labels\n",
    "plt.rc('ytick', labelsize=small_size)    # fontsize of the tick labels\n",
    "plt.rc('legend', fontsize=small_size)    # legend fontsize\n",
    "plt.rc('figure', titlesize=bigger_size)  # fontsize of the figure title"
   ]
  },
  {
   "cell_type": "code",
   "execution_count": 4,
   "metadata": {},
   "outputs": [],
   "source": [
    "with open('pg_credentials.p', 'rb') as f:\n",
    "    pg_credentials = pickle.load(f)"
   ]
  },
  {
   "cell_type": "code",
   "execution_count": 5,
   "metadata": {},
   "outputs": [],
   "source": [
    "host     = 'localhost'\n",
    "db_name  = 'goodreads_db'\n",
    "username = pg_credentials['username']\n",
    "password = pg_credentials['password']\n",
    "port = '5432'  # default port that postgres listens on\n",
    "    \n",
    "con = psycopg2.connect(database = db_name, user = username, host=host, password=password)"
   ]
  },
  {
   "cell_type": "code",
   "execution_count": 6,
   "metadata": {},
   "outputs": [],
   "source": [
    "query = \"SELECT * FROM works_withgenrelang\"\n",
    "all_data = pd.read_sql_query(query, con)"
   ]
  },
  {
   "cell_type": "code",
   "execution_count": 7,
   "metadata": {
    "scrolled": true
   },
   "outputs": [
    {
     "name": "stdout",
     "output_type": "stream",
     "text": [
      "Index(['level_0', 'index', 'id', 'title', 'is_series', 'author', 'all_authors',\n",
      "       'rating', 'nratings', 'nreviews', 'blurb', 'pubyear', 'language',\n",
      "       'to_read', 'favs', 'dnf', 'comics', 'short_stories', 'ya', 'children',\n",
      "       'winner', 'true_score', 'nprev', 'pub_date', 'author_annualviews',\n",
      "       'author_lastname', 'pub_id', 'pub_ctype', 'pub_isbn', 'author_id',\n",
      "       'author_canonical', 'title_id', 'title_storylen', 'title_graphic',\n",
      "       'title_annualviews', 'debut_year', 'identifier_value_amazon',\n",
      "       'identifier_value_goodreads', 'identifier_value_oclc',\n",
      "       'identifier_value_bn', 'identifier_value_audible', 'genre0', 'genre1',\n",
      "       'genre2', 'genre3', 'genre4', 'genre5', 'genre6', 'genre7', 'genre8',\n",
      "       'genre9', 'review_embed0', 'review_embed1', 'review_embed2',\n",
      "       'review_embed3', 'review_embed4', 'review_embed5', 'review_embed6',\n",
      "       'review_embed7', 'review_embed8', 'review_embed9'],\n",
      "      dtype='object')\n"
     ]
    }
   ],
   "source": [
    "print(all_data.columns)"
   ]
  },
  {
   "cell_type": "code",
   "execution_count": 8,
   "metadata": {
    "scrolled": true
   },
   "outputs": [
    {
     "name": "stdout",
     "output_type": "stream",
     "text": [
      "0      -43.0\n",
      "1      -44.0\n",
      "3      -43.0\n",
      "4      -39.0\n",
      "5      -44.0\n",
      "        ... \n",
      "4814   -50.0\n",
      "4817   -48.0\n",
      "4819   -47.0\n",
      "4824   -42.0\n",
      "4825   -41.0\n",
      "Name: debut_year, Length: 2702, dtype: float64\n"
     ]
    },
    {
     "name": "stderr",
     "output_type": "stream",
     "text": [
      "/home/msimet/projects/victor_predictor/analysis/notebooks/utils.py:26: FutureWarning: Comparing Series of datetimes with 'datetime.date'.  Currently, the\n",
      "'datetime.date' is coerced to a datetime. In the future pandas will\n",
      "not coerce, and a TypeError will be raised. To retain the current\n",
      "behavior, convert the 'datetime.date' to a datetime with\n",
      "'pd.Timestamp'.\n",
      "  year_mask = (data['debut_year'].isna()) | (data['pub_date']>=datetime.date(2030, 1, 1)) | (data['pub_date'].isna())\n",
      "/home/msimet/projects/victor_predictor/analysis/notebooks/utils.py:27: SettingWithCopyWarning: \n",
      "A value is trying to be set on a copy of a slice from a DataFrame\n",
      "\n",
      "See the caveats in the documentation: http://pandas.pydata.org/pandas-docs/stable/user_guide/indexing.html#returning-a-view-versus-a-copy\n",
      "  data['debut_year'][year_mask] = np.nan\n",
      "/home/msimet/projects/victor_predictor/analysis/notebooks/utils.py:28: SettingWithCopyWarning: \n",
      "A value is trying to be set on a copy of a slice from a DataFrame\n",
      "\n",
      "See the caveats in the documentation: http://pandas.pydata.org/pandas-docs/stable/user_guide/indexing.html#returning-a-view-versus-a-copy\n",
      "  data['debut_year'][~year_mask] = (pd.to_datetime(data['debut_year'][~year_mask])-data['pub_date'][~year_mask]).dt.days//365\n"
     ]
    }
   ],
   "source": [
    "data, mask = make_regression_array(all_data)"
   ]
  },
  {
   "cell_type": "code",
   "execution_count": 9,
   "metadata": {},
   "outputs": [],
   "source": [
    "ymask = (all_data['pubyear'][mask] < 2018) & (all_data['pubyear'][mask] > 2008)\n",
    "mask[mask][~ymask.values] = False\n",
    "data = data[ymask]"
   ]
  },
  {
   "cell_type": "code",
   "execution_count": 10,
   "metadata": {},
   "outputs": [
    {
     "name": "stderr",
     "output_type": "stream",
     "text": [
      "/home/msimet/anaconda3/envs/goodreads/lib/python3.7/site-packages/numpy/lib/function_base.py:2530: RuntimeWarning: invalid value encountered in true_divide\n",
      "  c /= stddev[:, None]\n",
      "/home/msimet/anaconda3/envs/goodreads/lib/python3.7/site-packages/numpy/lib/function_base.py:2531: RuntimeWarning: invalid value encountered in true_divide\n",
      "  c /= stddev[None, :]\n",
      "/home/msimet/anaconda3/envs/goodreads/lib/python3.7/site-packages/scipy/stats/_distn_infrastructure.py:901: RuntimeWarning: invalid value encountered in greater\n",
      "  return (a < x) & (x < b)\n",
      "/home/msimet/anaconda3/envs/goodreads/lib/python3.7/site-packages/scipy/stats/_distn_infrastructure.py:901: RuntimeWarning: invalid value encountered in less\n",
      "  return (a < x) & (x < b)\n",
      "/home/msimet/anaconda3/envs/goodreads/lib/python3.7/site-packages/scipy/stats/_distn_infrastructure.py:1892: RuntimeWarning: invalid value encountered in less_equal\n",
      "  cond2 = cond0 & (x <= _a)\n"
     ]
    }
   ],
   "source": [
    "correlations = []\n",
    "for column in data.columns:\n",
    "    correlations.append(spearmanr(data[column], data['true_score'])[1])"
   ]
  },
  {
   "cell_type": "code",
   "execution_count": 11,
   "metadata": {},
   "outputs": [
    {
     "name": "stdout",
     "output_type": "stream",
     "text": [
      "['true_score' 'nprev' 'title_annualviews' 'author_annualviews' 'nratings'\n",
      " 'genre6' 'genre2' 'dnf' 'genre1' 'ya' 'genre3' 'genre5' 'review_embed0'\n",
      " 'to_read' 'genre0' 'favs' 'children' 'genre8' 'review_embed2' 'genre4'\n",
      " 'is_series' 'nreviews' 'review_embed3' 'review_embed5' 'review_embed6'\n",
      " 'genre9' 'genre7' 'review_embed7' 'review_embed1' 'rating'\n",
      " 'review_embed4' 'review_embed8' 'review_embed9' 'years_since_debut'\n",
      " 'pub_date' 'short_stories' 'title_graphic' 'comics']\n"
     ]
    }
   ],
   "source": [
    "print(np.array(data.columns)[np.argsort(correlations)])"
   ]
  },
  {
   "cell_type": "code",
   "execution_count": 12,
   "metadata": {},
   "outputs": [
    {
     "name": "stdout",
     "output_type": "stream",
     "text": [
      "[0.00000000e+000 1.20706938e-100 1.18806088e-040 7.41875094e-029\n",
      " 1.46844940e-024 5.15784623e-017 1.04987017e-014 4.60313689e-007\n",
      " 5.09296298e-007 2.28078236e-006 5.83168346e-006 6.11918249e-005\n",
      " 1.90086673e-004 2.14474801e-004 8.20960315e-004 1.80417310e-003\n",
      " 1.87309766e-003 4.39758643e-003 9.24536455e-003 7.72651515e-002\n",
      " 9.37552902e-002 1.14265891e-001 1.33375372e-001 1.40098132e-001\n",
      " 2.26763538e-001 2.77235542e-001 2.81125697e-001 3.32946747e-001\n",
      " 4.22860805e-001 4.81814953e-001 5.36519731e-001 6.21014926e-001\n",
      " 7.33556703e-001 7.40007910e-001 9.36181565e-001             nan\n",
      "             nan             nan]\n"
     ]
    }
   ],
   "source": [
    "print(np.array(correlations)[np.argsort(correlations)])"
   ]
  },
  {
   "cell_type": "code",
   "execution_count": 13,
   "metadata": {},
   "outputs": [],
   "source": [
    "if retrain:\n",
    "    cols = [c for c, p in zip(data.columns, correlations) if p<1E-2]\n",
    "    np.save('columns.npy', cols)\n",
    "else:\n",
    "    cols = np.load('columns.npy')"
   ]
  },
  {
   "cell_type": "code",
   "execution_count": 14,
   "metadata": {},
   "outputs": [
    {
     "name": "stdout",
     "output_type": "stream",
     "text": [
      "['nratings', 'to_read', 'favs', 'dnf', 'ya', 'children', 'true_score', 'nprev', 'author_annualviews', 'title_annualviews', 'genre0', 'genre1', 'genre2', 'genre3', 'genre5', 'genre6', 'genre8', 'review_embed0', 'review_embed2']\n"
     ]
    }
   ],
   "source": [
    "print(cols)"
   ]
  },
  {
   "cell_type": "code",
   "execution_count": 31,
   "metadata": {},
   "outputs": [],
   "source": [
    "x_train = data.sample(frac=0.8, random_state=100)\n",
    "x_test = data.drop(x_train.index)\n",
    "data_train = x_train\n",
    "data_test = x_test\n",
    "x_train = x_train[cols]\n",
    "x_test = x_test[cols]\n",
    "y_train_continuous = x_train.pop(\"true_score\")\n",
    "y_test_continuous = x_test.pop(\"true_score\")\n",
    "thresh = 0\n",
    "y_train = y_train_continuous > thresh\n",
    "y_test = y_test_continuous > thresh\n",
    "x_train_true = x_train[y_train==1]\n",
    "x_train_false = x_train[y_train==0]"
   ]
  },
  {
   "cell_type": "code",
   "execution_count": 43,
   "metadata": {},
   "outputs": [],
   "source": [
    "if retrain:\n",
    "    yp_train_list = []\n",
    "    yp_test_list = []\n",
    "    model_list = []\n",
    "    frac = 1.0*len(x_train_true)/len(x_train_false)\n",
    "    for i in range(20):\n",
    "        gbm = GradientBoostingClassifier(n_estimators=200)\n",
    "        gbm.fit(xt, yt)\n",
    "        yp_train_list.append(gbm.predict(x_train))\n",
    "        yp_test_list.append(gbm.predict(x_test))\n",
    "        model_list.append(gbm)\n",
    "        with open(f'gbm_ensemble_{i}.p', 'wb') as f:\n",
    "            pickle.dump(gbm, f)\n",
    "else:\n",
    "    model_list = []\n",
    "    yp_train_list = []\n",
    "    yp_test_list = []\n",
    "    model_list = []\n",
    "    for i in range(20):\n",
    "        with open(f'gbm_ensemble_{i}.p', 'rb') as f:\n",
    "            model_list.append(pickle.load(f))\n",
    "        yp_train_list.append(model_list[-1].predict(x_train))\n",
    "        yp_test_list.append(model_list[-1].predict(x_test))\n"
   ]
  },
  {
   "cell_type": "code",
   "execution_count": 44,
   "metadata": {},
   "outputs": [],
   "source": [
    "mean_train_prediction = np.mean(yp_train_list, axis=0)\n",
    "mean_test_prediction = np.mean(yp_test_list, axis=0)"
   ]
  },
  {
   "cell_type": "code",
   "execution_count": 45,
   "metadata": {},
   "outputs": [
    {
     "name": "stdout",
     "output_type": "stream",
     "text": [
      "1 22\n"
     ]
    },
    {
     "data": {
      "image/png": "[encoded data removed]",
      "text/plain": [
       "<Figure size 432x288 with 1 Axes>"
      ]
     },
     "metadata": {},
     "output_type": "display_data"
    }
   ],
   "source": [
    "train_mask = y_train==1\n",
    "test_mask = y_test==1\n",
    "sns.scatterplot(y_train_continuous[train_mask], mean_train_prediction[train_mask])\n",
    "sns.scatterplot(y_test_continuous[test_mask], mean_test_prediction[test_mask])\n",
    "print(np.sum(mean_test_prediction[test_mask]<=0.1), np.sum(mean_test_prediction[test_mask]>=0.1))"
   ]
  },
  {
   "cell_type": "code",
   "execution_count": 46,
   "metadata": {},
   "outputs": [
    {
     "name": "stdout",
     "output_type": "stream",
     "text": [
      "243 78\n"
     ]
    },
    {
     "data": {
      "image/png": "[encoded data removed]",
      "text/plain": [
       "<Figure size 432x288 with 1 Axes>"
      ]
     },
     "metadata": {},
     "output_type": "display_data"
    }
   ],
   "source": [
    "train_mask = y_train==0\n",
    "test_mask = y_test==0\n",
    "sns.scatterplot(y_train_continuous.index[train_mask], mean_train_prediction[train_mask])\n",
    "sns.scatterplot(y_test_continuous.index[test_mask], mean_test_prediction[test_mask])\n",
    "print(np.sum(mean_test_prediction[test_mask]<=0.1), np.sum(mean_test_prediction[test_mask]>0.1))"
   ]
  },
  {
   "cell_type": "code",
   "execution_count": 50,
   "metadata": {},
   "outputs": [
    {
     "name": "stdout",
     "output_type": "stream",
     "text": [
      "0.0 0.12054794520547946\n",
      "0.0 0.2552204176334107\n",
      "0.05 0.30344827586206896\n",
      "0.05 0.5213270142180095\n",
      "0.1 0.33587786259541985\n",
      "0.1 0.5583756345177665\n",
      "0.15000000000000002 0.3448275862068966\n",
      "0.15000000000000002 0.5494505494505495\n",
      "0.2 0.3448275862068966\n",
      "0.2 0.5494505494505495\n",
      "0.25 0.36363636363636365\n",
      "0.25 0.5681818181818182\n",
      "0.30000000000000004 0.3883495145631068\n",
      "0.30000000000000004 0.591715976331361\n",
      "0.35000000000000003 0.36363636363636365\n",
      "0.35000000000000003 0.5454545454545454\n",
      "0.4 0.36363636363636365\n",
      "0.4 0.5454545454545454\n",
      "0.45 0.3829787234042553\n",
      "0.45 0.5625\n",
      "0.5 0.38636363636363635\n",
      "0.5 0.551948051948052\n",
      "0.55 0.3953488372093023\n",
      "0.55 0.5592105263157895\n",
      "0.6000000000000001 0.4266666666666667\n",
      "0.6000000000000001 0.5673758865248227\n",
      "0.65 0.4266666666666667\n",
      "0.65 0.5673758865248227\n",
      "0.7000000000000001 0.48484848484848486\n",
      "0.7000000000000001 0.6060606060606061\n",
      "0.75 0.48484848484848486\n",
      "0.75 0.6060606060606061\n",
      "0.8 0.5161290322580645\n",
      "0.8 0.625\n",
      "0.8500000000000001 0.5517241379310345\n",
      "0.8500000000000001 0.6451612903225806\n",
      "0.9 0.5517241379310345\n",
      "0.9 0.6451612903225806\n",
      "0.9500000000000001 0.5777777777777777\n",
      "0.9500000000000001 0.5855855855855856\n",
      "1.0 0.5777777777777777\n",
      "1.0 0.5855855855855856\n"
     ]
    }
   ],
   "source": [
    "for thresh in np.linspace(0, 1, 21):\n",
    "    tp = np.sum(mean_test_prediction[y_test==1]>=thresh)\n",
    "    fn = np.sum(mean_test_prediction[y_test==1]<thresh)\n",
    "    tn = np.sum(mean_test_prediction[y_test==0]<thresh)\n",
    "    fp = np.sum(mean_test_prediction[y_test==0]>=thresh)\n",
    "    beta = 1.0\n",
    "    Fbeta = (1+beta**2)*tp/((1+beta**2)*tp+beta**2*fn + fp)\n",
    "    print(thresh,Fbeta)\n",
    "    beta = 2.0\n",
    "    Fbeta = (1+beta**2)*tp/((1+beta**2)*tp+beta**2*fn + fp)\n",
    "    print(thresh,Fbeta)    "
   ]
  },
  {
   "cell_type": "code",
   "execution_count": 55,
   "metadata": {},
   "outputs": [],
   "source": [
    "thresh = 0.95\n",
    "np.save('thresh.npy', thresh)"
   ]
  },
  {
   "cell_type": "code",
   "execution_count": 56,
   "metadata": {},
   "outputs": [],
   "source": [
    "mean_train_prediction = mean_train_prediction>=thresh\n",
    "mean_test_prediction = mean_test_prediction>=thresh"
   ]
  },
  {
   "cell_type": "code",
   "execution_count": 57,
   "metadata": {},
   "outputs": [],
   "source": [
    "all_data['prettystring'] = all_data.apply(lambda x: '{} by {}'.format(x.title, x.author), axis=1)\n",
    "prettystring = all_data.pop('prettystring')"
   ]
  },
  {
   "cell_type": "code",
   "execution_count": 58,
   "metadata": {},
   "outputs": [],
   "source": [
    "y_train_comp = pd.DataFrame({'continuous': y_train_continuous, 'discrete': y_train, 'prediction': mean_train_prediction})\n",
    "y_test_comp = pd.DataFrame({'continuous': y_test_continuous, 'discrete': y_test, 'prediction': mean_test_prediction})"
   ]
  },
  {
   "cell_type": "code",
   "execution_count": 59,
   "metadata": {},
   "outputs": [
    {
     "data": {
      "text/plain": [
       "1927                           Proxima by Stephen Baxter\n",
       "1415                       The Heroes by Joe Abercrombie\n",
       "2631                    The Peripheral by William Gibson\n",
       "4587                            Turn Coat by Jim Butcher\n",
       "3693                        Authority by Jeff VanderMeer\n",
       "1858                    Oathbringer by Brandon Sanderson\n",
       "1638                    Oathbringer by Brandon Sanderson\n",
       "1152                 The Rithmatist by Brandon Sanderson\n",
       "232                        Acceptance by Jeff VanderMeer\n",
       "4574                  Terms of Enlistment by Marko Kloos\n",
       "2172                 Kings of the Wyld by Nicholas Eames\n",
       "1657                     Shades of Grey by Jasper Fforde\n",
       "2890                   The Long Earth by Terry Pratchett\n",
       "2732          The Bands of Mourning by Brandon Sanderson\n",
       "3817                 Best Served Cold by Joe Abercrombie\n",
       "2935             The Children of the Sky by Vernor Vinge\n",
       "397                       Mes vrais enfants by Jo Walton\n",
       "4194                          Ghost Story by Jim Butcher\n",
       "3848                Welcome to Night Vale by Joseph Fink\n",
       "1296                   Nemesis Games by James S.A. Corey\n",
       "2130                            Cold Days by Jim Butcher\n",
       "1395                       Revenger by Alastair Reynolds\n",
       "3398                      Luna: New Moon by Ian McDonald\n",
       "77                 The Fractal Prince by Hannu Rajaniemi\n",
       "2118                   The Bone Clocks by David Mitchell\n",
       "4249                      Pathfinder by Orson Scott Card\n",
       "2958                   The Winter Long by Seanan McGuire\n",
       "4254                            Snuff by Terry Pratchett\n",
       "3268        The Abyss Beyond Dreams by Peter F. Hamilton\n",
       "4645               The Alloy of Law by Brandon Sanderson\n",
       "851                            Wolf Moon by Ian McDonald\n",
       "2694    The Rise and Fall of D.O.D.O. by Neal Stephenson\n",
       "4324         The Library at Mount Char by Scott  Hawkins\n",
       "4394                   The Dervish House by Ian McDonald\n",
       "718                            Reamde by Neal Stephenson\n",
       "Name: prettystring, dtype: object"
      ]
     },
     "execution_count": 59,
     "metadata": {},
     "output_type": "execute_result"
    }
   ],
   "source": [
    "prettystring.loc[y_train_comp.index[y_train_comp['discrete']!=y_train_comp['prediction']]]"
   ]
  },
  {
   "cell_type": "code",
   "execution_count": 60,
   "metadata": {},
   "outputs": [
    {
     "data": {
      "text/html": [
       "<div>\n",
       "<style scoped>\n",
       "    .dataframe tbody tr th:only-of-type {\n",
       "        vertical-align: middle;\n",
       "    }\n",
       "\n",
       "    .dataframe tbody tr th {\n",
       "        vertical-align: top;\n",
       "    }\n",
       "\n",
       "    .dataframe thead th {\n",
       "        text-align: right;\n",
       "    }\n",
       "</style>\n",
       "<table border=\"1\" class=\"dataframe\">\n",
       "  <thead>\n",
       "    <tr style=\"text-align: right;\">\n",
       "      <th></th>\n",
       "      <th>continuous</th>\n",
       "      <th>discrete</th>\n",
       "      <th>prediction</th>\n",
       "    </tr>\n",
       "  </thead>\n",
       "  <tbody>\n",
       "    <tr>\n",
       "      <td>1927</td>\n",
       "      <td>0.0</td>\n",
       "      <td>False</td>\n",
       "      <td>True</td>\n",
       "    </tr>\n",
       "    <tr>\n",
       "      <td>1415</td>\n",
       "      <td>0.0</td>\n",
       "      <td>False</td>\n",
       "      <td>True</td>\n",
       "    </tr>\n",
       "    <tr>\n",
       "      <td>2631</td>\n",
       "      <td>0.0</td>\n",
       "      <td>False</td>\n",
       "      <td>True</td>\n",
       "    </tr>\n",
       "    <tr>\n",
       "      <td>4587</td>\n",
       "      <td>0.0</td>\n",
       "      <td>False</td>\n",
       "      <td>True</td>\n",
       "    </tr>\n",
       "    <tr>\n",
       "      <td>3693</td>\n",
       "      <td>0.0</td>\n",
       "      <td>False</td>\n",
       "      <td>True</td>\n",
       "    </tr>\n",
       "    <tr>\n",
       "      <td>1858</td>\n",
       "      <td>0.0</td>\n",
       "      <td>False</td>\n",
       "      <td>True</td>\n",
       "    </tr>\n",
       "    <tr>\n",
       "      <td>1638</td>\n",
       "      <td>0.0</td>\n",
       "      <td>False</td>\n",
       "      <td>True</td>\n",
       "    </tr>\n",
       "    <tr>\n",
       "      <td>1152</td>\n",
       "      <td>0.0</td>\n",
       "      <td>False</td>\n",
       "      <td>True</td>\n",
       "    </tr>\n",
       "    <tr>\n",
       "      <td>232</td>\n",
       "      <td>0.0</td>\n",
       "      <td>False</td>\n",
       "      <td>True</td>\n",
       "    </tr>\n",
       "    <tr>\n",
       "      <td>4574</td>\n",
       "      <td>0.0</td>\n",
       "      <td>False</td>\n",
       "      <td>True</td>\n",
       "    </tr>\n",
       "    <tr>\n",
       "      <td>2172</td>\n",
       "      <td>0.0</td>\n",
       "      <td>False</td>\n",
       "      <td>True</td>\n",
       "    </tr>\n",
       "    <tr>\n",
       "      <td>1657</td>\n",
       "      <td>0.0</td>\n",
       "      <td>False</td>\n",
       "      <td>True</td>\n",
       "    </tr>\n",
       "    <tr>\n",
       "      <td>2890</td>\n",
       "      <td>0.0</td>\n",
       "      <td>False</td>\n",
       "      <td>True</td>\n",
       "    </tr>\n",
       "    <tr>\n",
       "      <td>2732</td>\n",
       "      <td>0.0</td>\n",
       "      <td>False</td>\n",
       "      <td>True</td>\n",
       "    </tr>\n",
       "    <tr>\n",
       "      <td>3817</td>\n",
       "      <td>0.0</td>\n",
       "      <td>False</td>\n",
       "      <td>True</td>\n",
       "    </tr>\n",
       "    <tr>\n",
       "      <td>2935</td>\n",
       "      <td>0.0</td>\n",
       "      <td>False</td>\n",
       "      <td>True</td>\n",
       "    </tr>\n",
       "    <tr>\n",
       "      <td>397</td>\n",
       "      <td>0.0</td>\n",
       "      <td>False</td>\n",
       "      <td>True</td>\n",
       "    </tr>\n",
       "    <tr>\n",
       "      <td>4194</td>\n",
       "      <td>0.0</td>\n",
       "      <td>False</td>\n",
       "      <td>True</td>\n",
       "    </tr>\n",
       "    <tr>\n",
       "      <td>3848</td>\n",
       "      <td>0.0</td>\n",
       "      <td>False</td>\n",
       "      <td>True</td>\n",
       "    </tr>\n",
       "    <tr>\n",
       "      <td>1296</td>\n",
       "      <td>0.0</td>\n",
       "      <td>False</td>\n",
       "      <td>True</td>\n",
       "    </tr>\n",
       "    <tr>\n",
       "      <td>2130</td>\n",
       "      <td>0.0</td>\n",
       "      <td>False</td>\n",
       "      <td>True</td>\n",
       "    </tr>\n",
       "    <tr>\n",
       "      <td>1395</td>\n",
       "      <td>0.0</td>\n",
       "      <td>False</td>\n",
       "      <td>True</td>\n",
       "    </tr>\n",
       "    <tr>\n",
       "      <td>3398</td>\n",
       "      <td>0.0</td>\n",
       "      <td>False</td>\n",
       "      <td>True</td>\n",
       "    </tr>\n",
       "    <tr>\n",
       "      <td>77</td>\n",
       "      <td>0.0</td>\n",
       "      <td>False</td>\n",
       "      <td>True</td>\n",
       "    </tr>\n",
       "    <tr>\n",
       "      <td>2118</td>\n",
       "      <td>0.0</td>\n",
       "      <td>False</td>\n",
       "      <td>True</td>\n",
       "    </tr>\n",
       "    <tr>\n",
       "      <td>4249</td>\n",
       "      <td>0.0</td>\n",
       "      <td>False</td>\n",
       "      <td>True</td>\n",
       "    </tr>\n",
       "    <tr>\n",
       "      <td>2958</td>\n",
       "      <td>0.0</td>\n",
       "      <td>False</td>\n",
       "      <td>True</td>\n",
       "    </tr>\n",
       "    <tr>\n",
       "      <td>4254</td>\n",
       "      <td>0.0</td>\n",
       "      <td>False</td>\n",
       "      <td>True</td>\n",
       "    </tr>\n",
       "    <tr>\n",
       "      <td>3268</td>\n",
       "      <td>0.0</td>\n",
       "      <td>False</td>\n",
       "      <td>True</td>\n",
       "    </tr>\n",
       "    <tr>\n",
       "      <td>4645</td>\n",
       "      <td>0.0</td>\n",
       "      <td>False</td>\n",
       "      <td>True</td>\n",
       "    </tr>\n",
       "    <tr>\n",
       "      <td>851</td>\n",
       "      <td>0.0</td>\n",
       "      <td>False</td>\n",
       "      <td>True</td>\n",
       "    </tr>\n",
       "    <tr>\n",
       "      <td>2694</td>\n",
       "      <td>0.0</td>\n",
       "      <td>False</td>\n",
       "      <td>True</td>\n",
       "    </tr>\n",
       "    <tr>\n",
       "      <td>4324</td>\n",
       "      <td>0.0</td>\n",
       "      <td>False</td>\n",
       "      <td>True</td>\n",
       "    </tr>\n",
       "    <tr>\n",
       "      <td>4394</td>\n",
       "      <td>0.0</td>\n",
       "      <td>False</td>\n",
       "      <td>True</td>\n",
       "    </tr>\n",
       "    <tr>\n",
       "      <td>718</td>\n",
       "      <td>0.0</td>\n",
       "      <td>False</td>\n",
       "      <td>True</td>\n",
       "    </tr>\n",
       "  </tbody>\n",
       "</table>\n",
       "</div>"
      ],
      "text/plain": [
       "      continuous  discrete  prediction\n",
       "1927         0.0     False        True\n",
       "1415         0.0     False        True\n",
       "2631         0.0     False        True\n",
       "4587         0.0     False        True\n",
       "3693         0.0     False        True\n",
       "1858         0.0     False        True\n",
       "1638         0.0     False        True\n",
       "1152         0.0     False        True\n",
       "232          0.0     False        True\n",
       "4574         0.0     False        True\n",
       "2172         0.0     False        True\n",
       "1657         0.0     False        True\n",
       "2890         0.0     False        True\n",
       "2732         0.0     False        True\n",
       "3817         0.0     False        True\n",
       "2935         0.0     False        True\n",
       "397          0.0     False        True\n",
       "4194         0.0     False        True\n",
       "3848         0.0     False        True\n",
       "1296         0.0     False        True\n",
       "2130         0.0     False        True\n",
       "1395         0.0     False        True\n",
       "3398         0.0     False        True\n",
       "77           0.0     False        True\n",
       "2118         0.0     False        True\n",
       "4249         0.0     False        True\n",
       "2958         0.0     False        True\n",
       "4254         0.0     False        True\n",
       "3268         0.0     False        True\n",
       "4645         0.0     False        True\n",
       "851          0.0     False        True\n",
       "2694         0.0     False        True\n",
       "4324         0.0     False        True\n",
       "4394         0.0     False        True\n",
       "718          0.0     False        True"
      ]
     },
     "execution_count": 60,
     "metadata": {},
     "output_type": "execute_result"
    }
   ],
   "source": [
    "y_train_comp.loc[y_train_comp.index[y_train_comp['discrete']!=y_train_comp['prediction']]]"
   ]
  },
  {
   "cell_type": "code",
   "execution_count": 61,
   "metadata": {},
   "outputs": [
    {
     "data": {
      "text/plain": [
       "788                       Death's End by Liu Cixin\n",
       "908                The Red Pyramid by Rick Riordan\n",
       "989               Ready Player One by Ernest Cline\n",
       "1046                Under the Dome by Stephen King\n",
       "1141                  Red Sister by Mark  Lawrence\n",
       "1167                     Walkaway by Cory Doctorow\n",
       "1261      The Year of the Flood by Margaret Atwood\n",
       "1362                  MaddAddam by Margaret Atwood\n",
       "1363         Great North Road by Peter F. Hamilton\n",
       "1582                Half a King by Joe Abercrombie\n",
       "1686           Beren and Lúthien by J.R.R. Tolkien\n",
       "1803       The Chaplain's War by Brad R. Torgersen\n",
       "1950                     Walkaway by Cory Doctorow\n",
       "2338              The Changeling by Victor LaValle\n",
       "2790            A Memory of Light by Robert Jordan\n",
       "2841                Zero History by William Gibson\n",
       "2955                    Golden Son by Pierce Brown\n",
       "3397          The Delirium Brief by Charles Stross\n",
       "3807                 Spoonbenders by Daryl Gregory\n",
       "3983                 Winter Tide by Ruthanna Emrys\n",
       "4155    City of Miracles by Robert Jackson Bennett\n",
       "4263                       The Fireman by Joe Hill\n",
       "Name: prettystring, dtype: object"
      ]
     },
     "execution_count": 61,
     "metadata": {},
     "output_type": "execute_result"
    }
   ],
   "source": [
    "prettystring.loc[y_test_comp.index[y_test_comp['discrete']!=y_test_comp['prediction']]]"
   ]
  },
  {
   "cell_type": "code",
   "execution_count": 62,
   "metadata": {},
   "outputs": [
    {
     "data": {
      "text/html": [
       "<div>\n",
       "<style scoped>\n",
       "    .dataframe tbody tr th:only-of-type {\n",
       "        vertical-align: middle;\n",
       "    }\n",
       "\n",
       "    .dataframe tbody tr th {\n",
       "        vertical-align: top;\n",
       "    }\n",
       "\n",
       "    .dataframe thead th {\n",
       "        text-align: right;\n",
       "    }\n",
       "</style>\n",
       "<table border=\"1\" class=\"dataframe\">\n",
       "  <thead>\n",
       "    <tr style=\"text-align: right;\">\n",
       "      <th></th>\n",
       "      <th>continuous</th>\n",
       "      <th>discrete</th>\n",
       "      <th>prediction</th>\n",
       "    </tr>\n",
       "  </thead>\n",
       "  <tbody>\n",
       "    <tr>\n",
       "      <td>788</td>\n",
       "      <td>0.679157</td>\n",
       "      <td>True</td>\n",
       "      <td>False</td>\n",
       "    </tr>\n",
       "    <tr>\n",
       "      <td>908</td>\n",
       "      <td>0.000000</td>\n",
       "      <td>False</td>\n",
       "      <td>True</td>\n",
       "    </tr>\n",
       "    <tr>\n",
       "      <td>989</td>\n",
       "      <td>0.550056</td>\n",
       "      <td>True</td>\n",
       "      <td>False</td>\n",
       "    </tr>\n",
       "    <tr>\n",
       "      <td>1046</td>\n",
       "      <td>0.000000</td>\n",
       "      <td>False</td>\n",
       "      <td>True</td>\n",
       "    </tr>\n",
       "    <tr>\n",
       "      <td>1141</td>\n",
       "      <td>0.000000</td>\n",
       "      <td>False</td>\n",
       "      <td>True</td>\n",
       "    </tr>\n",
       "    <tr>\n",
       "      <td>1167</td>\n",
       "      <td>0.000000</td>\n",
       "      <td>False</td>\n",
       "      <td>True</td>\n",
       "    </tr>\n",
       "    <tr>\n",
       "      <td>1261</td>\n",
       "      <td>0.000000</td>\n",
       "      <td>False</td>\n",
       "      <td>True</td>\n",
       "    </tr>\n",
       "    <tr>\n",
       "      <td>1362</td>\n",
       "      <td>0.000000</td>\n",
       "      <td>False</td>\n",
       "      <td>True</td>\n",
       "    </tr>\n",
       "    <tr>\n",
       "      <td>1363</td>\n",
       "      <td>0.000000</td>\n",
       "      <td>False</td>\n",
       "      <td>True</td>\n",
       "    </tr>\n",
       "    <tr>\n",
       "      <td>1582</td>\n",
       "      <td>0.000000</td>\n",
       "      <td>False</td>\n",
       "      <td>True</td>\n",
       "    </tr>\n",
       "    <tr>\n",
       "      <td>1686</td>\n",
       "      <td>0.000000</td>\n",
       "      <td>False</td>\n",
       "      <td>True</td>\n",
       "    </tr>\n",
       "    <tr>\n",
       "      <td>1803</td>\n",
       "      <td>0.298998</td>\n",
       "      <td>True</td>\n",
       "      <td>False</td>\n",
       "    </tr>\n",
       "    <tr>\n",
       "      <td>1950</td>\n",
       "      <td>0.000000</td>\n",
       "      <td>False</td>\n",
       "      <td>True</td>\n",
       "    </tr>\n",
       "    <tr>\n",
       "      <td>2338</td>\n",
       "      <td>0.000000</td>\n",
       "      <td>False</td>\n",
       "      <td>True</td>\n",
       "    </tr>\n",
       "    <tr>\n",
       "      <td>2790</td>\n",
       "      <td>0.492884</td>\n",
       "      <td>True</td>\n",
       "      <td>False</td>\n",
       "    </tr>\n",
       "    <tr>\n",
       "      <td>2841</td>\n",
       "      <td>0.000000</td>\n",
       "      <td>False</td>\n",
       "      <td>True</td>\n",
       "    </tr>\n",
       "    <tr>\n",
       "      <td>2955</td>\n",
       "      <td>0.170495</td>\n",
       "      <td>True</td>\n",
       "      <td>False</td>\n",
       "    </tr>\n",
       "    <tr>\n",
       "      <td>3397</td>\n",
       "      <td>0.000000</td>\n",
       "      <td>False</td>\n",
       "      <td>True</td>\n",
       "    </tr>\n",
       "    <tr>\n",
       "      <td>3807</td>\n",
       "      <td>0.000000</td>\n",
       "      <td>False</td>\n",
       "      <td>True</td>\n",
       "    </tr>\n",
       "    <tr>\n",
       "      <td>3983</td>\n",
       "      <td>0.205893</td>\n",
       "      <td>True</td>\n",
       "      <td>False</td>\n",
       "    </tr>\n",
       "    <tr>\n",
       "      <td>4155</td>\n",
       "      <td>0.000000</td>\n",
       "      <td>False</td>\n",
       "      <td>True</td>\n",
       "    </tr>\n",
       "    <tr>\n",
       "      <td>4263</td>\n",
       "      <td>0.000000</td>\n",
       "      <td>False</td>\n",
       "      <td>True</td>\n",
       "    </tr>\n",
       "  </tbody>\n",
       "</table>\n",
       "</div>"
      ],
      "text/plain": [
       "      continuous  discrete  prediction\n",
       "788     0.679157      True       False\n",
       "908     0.000000     False        True\n",
       "989     0.550056      True       False\n",
       "1046    0.000000     False        True\n",
       "1141    0.000000     False        True\n",
       "1167    0.000000     False        True\n",
       "1261    0.000000     False        True\n",
       "1362    0.000000     False        True\n",
       "1363    0.000000     False        True\n",
       "1582    0.000000     False        True\n",
       "1686    0.000000     False        True\n",
       "1803    0.298998      True       False\n",
       "1950    0.000000     False        True\n",
       "2338    0.000000     False        True\n",
       "2790    0.492884      True       False\n",
       "2841    0.000000     False        True\n",
       "2955    0.170495      True       False\n",
       "3397    0.000000     False        True\n",
       "3807    0.000000     False        True\n",
       "3983    0.205893      True       False\n",
       "4155    0.000000     False        True\n",
       "4263    0.000000     False        True"
      ]
     },
     "execution_count": 62,
     "metadata": {},
     "output_type": "execute_result"
    }
   ],
   "source": [
    "y_test_comp.loc[y_test_comp.index[y_test_comp['discrete']!=y_test_comp['prediction']]]"
   ]
  },
  {
   "cell_type": "code",
   "execution_count": 94,
   "metadata": {},
   "outputs": [],
   "source": [
    "# Now try a regressor to rank things that were coded \"winners\"\n",
    "x_train_regression = x_train[mean_train_prediction>0]\n",
    "y_train_regression = y_train_continuous[mean_train_prediction>0]\n",
    "x_test_regression = x_test[mean_test_prediction>0]\n",
    "y_test_regression = y_test_continuous[mean_test_prediction>0]"
   ]
  },
  {
   "cell_type": "code",
   "execution_count": 115,
   "metadata": {},
   "outputs": [],
   "source": [
    "if retrain:\n",
    "    yp_train_regression_list = []\n",
    "    yp_test_regression_list = []\n",
    "    regression_model_list = []\n",
    "    for i in range(10):\n",
    "        xtr = x_train_regression.sample(frac=1, replace=True)\n",
    "        ytr = y_train_regression[xtr.index]\n",
    "        gbm = GradientBoostingRegressor(n_estimators=50)\n",
    "        gbm.fit(xtr, ytr)\n",
    "        yp_train_regression_list.append(gbm.predict(x_train_regression))\n",
    "        yp_test_regression_list.append(gbm.predict(x_test_regression))\n",
    "        regression_model_list.append(gbm)\n",
    "        with open(f'gbm_regressor_ensemble_{i}.p', 'wb') as f:\n",
    "            pickle.dump(gbm, f)\n",
    "else:\n",
    "    yp_train_regression_list = []\n",
    "    yp_test_regression_list = []\n",
    "    regression_model_list = []\n",
    "    for i in range(10):\n",
    "        with open(f'gbm_regressor_ensemble_{i}.p', 'rb') as f:\n",
    "            regression_model_list.append(pickle.load(f))\n",
    "        yp_train_regression_list.append(regression_model_list[-1].predict(x_train_regression))\n",
    "        yp_test_regression_list.append(regression_model_list[-1].predict(x_test_regression))"
   ]
  },
  {
   "cell_type": "code",
   "execution_count": null,
   "metadata": {},
   "outputs": [],
   "source": [
    "for i in range(10):\n",
    "    with open(f'gbm_regressor_ensemble_{i}.p', 'wb') as f:\n",
    "        pickle.dump(gbm, f)\n"
   ]
  },
  {
   "cell_type": "code",
   "execution_count": 116,
   "metadata": {},
   "outputs": [],
   "source": [
    "mean_train_regression_prediction = np.mean(yp_train_regression_list, axis=0)\n",
    "mean_test_regression_prediction = np.mean(yp_test_regression_list, axis=0)"
   ]
  },
  {
   "cell_type": "code",
   "execution_count": 156,
   "metadata": {},
   "outputs": [
    {
     "data": {
      "text/plain": [
       "Text(0, 0.5, 'Predicted score')"
      ]
     },
     "execution_count": 156,
     "metadata": {},
     "output_type": "execute_result"
    },
    {
     "data": {
      "image/png": "[encoded data removed]",
      "text/plain": [
       "<Figure size 432x288 with 1 Axes>"
      ]
     },
     "metadata": {},
     "output_type": "display_data"
    }
   ],
   "source": [
    "fig, ax = plt.subplots()\n",
    "sns.scatterplot(y_train_regression, mean_train_regression_prediction, label=\"Train\", ax=ax)\n",
    "sns.scatterplot(y_test_regression, mean_test_regression_prediction, label=\"Test\", ax=ax)\n",
    "plt.xlabel(\"True score\")\n",
    "plt.ylabel(\"Predicted score\")\n"
   ]
  },
  {
   "cell_type": "code",
   "execution_count": 118,
   "metadata": {},
   "outputs": [
    {
     "name": "stdout",
     "output_type": "stream",
     "text": [
      "0.2666910688968456\n"
     ]
    }
   ],
   "source": [
    "from sklearn.metrics import r2_score\n",
    "print(r2_score(np.concatenate([y_test_regression]), np.concatenate([mean_test_regression_prediction])))"
   ]
  },
  {
   "cell_type": "code",
   "execution_count": 119,
   "metadata": {},
   "outputs": [],
   "source": [
    "for i, model in enumerate(regression_model_list):\n",
    "    with open(f'gbm_regressor_ensemble_{i}.p', 'wb') as f:\n",
    "        pickle.dump(gbm, f)\n"
   ]
  },
  {
   "cell_type": "code",
   "execution_count": 120,
   "metadata": {},
   "outputs": [],
   "source": [
    "x_train_regression_notselected = x_train[mean_train_prediction==0]\n",
    "y_train_regression_notselected = y_train_continuous[mean_train_prediction==0]\n",
    "x_test_regression_notselected = x_test[mean_test_prediction==0]\n",
    "y_test_regression_notselected = y_test_continuous[mean_test_prediction==0]"
   ]
  },
  {
   "cell_type": "code",
   "execution_count": 121,
   "metadata": {},
   "outputs": [],
   "source": [
    "yp_train_regression_notselected_list = []\n",
    "yp_test_regression_notselected_list = []\n",
    "for model in regression_model_list:\n",
    "    yp_train_regression_notselected_list.append(model.predict(x_train_regression_notselected))\n",
    "    yp_test_regression_notselected_list.append(model.predict(x_test_regression_notselected))\n"
   ]
  },
  {
   "cell_type": "code",
   "execution_count": 122,
   "metadata": {},
   "outputs": [],
   "source": [
    "mean_train_regression_notselected_prediction = np.mean(yp_train_regression_notselected_list, axis=0)\n",
    "mean_test_regression_notselected_prediction = np.mean(yp_test_regression_notselected_list, axis=0)"
   ]
  },
  {
   "cell_type": "code",
   "execution_count": 123,
   "metadata": {},
   "outputs": [
    {
     "data": {
      "text/plain": [
       "<matplotlib.axes._subplots.AxesSubplot at 0x7f75a9004910>"
      ]
     },
     "execution_count": 123,
     "metadata": {},
     "output_type": "execute_result"
    },
    {
     "data": {
      "image/png": "[encoded data removed]",
      "text/plain": [
       "<Figure size 432x288 with 1 Axes>"
      ]
     },
     "metadata": {},
     "output_type": "display_data"
    }
   ],
   "source": [
    "sns.scatterplot(y_train_regression_notselected, mean_train_regression_notselected_prediction)\n",
    "sns.scatterplot(y_test_regression_notselected, mean_test_regression_notselected_prediction)"
   ]
  },
  {
   "cell_type": "code",
   "execution_count": 124,
   "metadata": {},
   "outputs": [],
   "source": [
    "query = \"SELECT * FROM works_withgenrelang\"\n",
    "all_data = pd.read_sql_query(query, con)"
   ]
  },
  {
   "cell_type": "code",
   "execution_count": 125,
   "metadata": {},
   "outputs": [
    {
     "name": "stdout",
     "output_type": "stream",
     "text": [
      "0      -43.0\n",
      "1      -44.0\n",
      "3      -43.0\n",
      "4      -39.0\n",
      "5      -44.0\n",
      "        ... \n",
      "4817   -48.0\n",
      "4819   -47.0\n",
      "4821   -45.0\n",
      "4824   -42.0\n",
      "4825   -41.0\n",
      "Name: debut_year, Length: 2899, dtype: float64\n"
     ]
    },
    {
     "name": "stderr",
     "output_type": "stream",
     "text": [
      "/home/msimet/projects/victor_predictor/analysis/notebooks/utils.py:26: FutureWarning: Comparing Series of datetimes with 'datetime.date'.  Currently, the\n",
      "'datetime.date' is coerced to a datetime. In the future pandas will\n",
      "not coerce, and a TypeError will be raised. To retain the current\n",
      "behavior, convert the 'datetime.date' to a datetime with\n",
      "'pd.Timestamp'.\n",
      "  year_mask = (data['debut_year'].isna()) | (data['pub_date']>=datetime.date(2030, 1, 1)) | (data['pub_date'].isna())\n",
      "/home/msimet/projects/victor_predictor/analysis/notebooks/utils.py:27: SettingWithCopyWarning: \n",
      "A value is trying to be set on a copy of a slice from a DataFrame\n",
      "\n",
      "See the caveats in the documentation: http://pandas.pydata.org/pandas-docs/stable/user_guide/indexing.html#returning-a-view-versus-a-copy\n",
      "  data['debut_year'][year_mask] = np.nan\n",
      "/home/msimet/projects/victor_predictor/analysis/notebooks/utils.py:28: SettingWithCopyWarning: \n",
      "A value is trying to be set on a copy of a slice from a DataFrame\n",
      "\n",
      "See the caveats in the documentation: http://pandas.pydata.org/pandas-docs/stable/user_guide/indexing.html#returning-a-view-versus-a-copy\n",
      "  data['debut_year'][~year_mask] = (pd.to_datetime(data['debut_year'][~year_mask])-data['pub_date'][~year_mask]).dt.days//365\n"
     ]
    }
   ],
   "source": [
    "data, mask = make_regression_array(all_data, keep_short_stories = True)\n",
    "all_data = all_data[mask]"
   ]
  },
  {
   "cell_type": "code",
   "execution_count": 126,
   "metadata": {},
   "outputs": [],
   "source": [
    "data = data[cols].drop(columns='true_score')"
   ]
  },
  {
   "cell_type": "code",
   "execution_count": 127,
   "metadata": {},
   "outputs": [],
   "source": [
    "yc_list = []\n",
    "for model in model_list:\n",
    "    yc_list.append(model.predict(data))\n",
    "nominee = np.mean(yc_list, axis=0)>=thresh\n",
    "\n",
    "ys_list = []\n",
    "for model in regression_model_list:\n",
    "    ys_list.append(model.predict(data))\n",
    "score = np.mean(ys_list, axis=0)\n",
    "yes_mask = nominee>0\n",
    "ymin = score[yes_mask].min()\n",
    "ymax = score[yes_mask].max()\n",
    "score[yes_mask] = 0.5+0.5*(score[yes_mask]-ymin)/(ymax-ymin)\n",
    "nmin = score[~yes_mask].min()\n",
    "nmax = score[~yes_mask].max()\n",
    "score[~yes_mask] = 0.5*(score[~yes_mask]-nmin)/(nmax-nmin)"
   ]
  },
  {
   "cell_type": "code",
   "execution_count": 128,
   "metadata": {},
   "outputs": [
    {
     "name": "stdout",
     "output_type": "stream",
     "text": [
      "0.5 1.0 0.0 0.5\n"
     ]
    }
   ],
   "source": [
    "print(score[yes_mask].min(), score[yes_mask].max(), score[~yes_mask].min(), score[~yes_mask].max())"
   ]
  },
  {
   "cell_type": "code",
   "execution_count": 129,
   "metadata": {},
   "outputs": [],
   "source": [
    "all_data['pred_score'] = score"
   ]
  },
  {
   "cell_type": "code",
   "execution_count": 131,
   "metadata": {},
   "outputs": [],
   "source": [
    "def make_datasets_readinglevel(data):\n",
    "    tdata = data.copy()\n",
    "    res = []\n",
    "    for ya in [data['ya'].min(), data['ya'].max()]:\n",
    "        for children in [data['children'].min(), data['children'].max()]:\n",
    "            tdata['ya'] = ya\n",
    "            tdata['children'] = children\n",
    "            yield tdata\n",
    "\n",
    "def make_datasets_author(data):\n",
    "    tdata = data.copy()\n",
    "    for aviews in np.linspace(\n",
    "            data['author_annualviews'].min(), data['author_annualviews'].max(), 10):\n",
    "        for nprev in range(max(data['nprev'])//2):\n",
    "            tdata['author_annualviews'] = aviews\n",
    "            tdata['nprev'] = nprev\n",
    "            yield tdata\n"
   ]
  },
  {
   "cell_type": "code",
   "execution_count": 132,
   "metadata": {},
   "outputs": [],
   "source": [
    "# Marginalize over reading level\n",
    "yc_list = []\n",
    "for tdata in make_datasets_readinglevel(data):\n",
    "    for model in model_list:\n",
    "        yc_list.append(model.predict(tdata))\n",
    "nominee = np.mean(yc_list, axis=0)>0.1\n",
    "\n",
    "ys_list = []\n",
    "for tdata in make_datasets_readinglevel(data):\n",
    "    for model in regression_model_list:\n",
    "        ys_list.append(model.predict(tdata))\n",
    "score = np.mean(ys_list, axis=0)\n",
    "yes_mask = nominee>0\n",
    "ymin = score[yes_mask].min()\n",
    "ymax = score[yes_mask].max()\n",
    "score[yes_mask] = 0.5+0.5*(score[yes_mask]-ymin)/(ymax-ymin)\n",
    "nmin = score[~yes_mask].min()\n",
    "nmax = score[~yes_mask].max()\n",
    "score[~yes_mask] = 0.5*(score[~yes_mask]-nmin)/(nmax-nmin)\n",
    "\n",
    "all_data['pred_score_readinglevel'] = score"
   ]
  },
  {
   "cell_type": "code",
   "execution_count": 134,
   "metadata": {},
   "outputs": [],
   "source": [
    "# Marginalize over authorship\n",
    "yc_list = []\n",
    "for tdata in make_datasets_author(data):\n",
    "    for model in model_list:\n",
    "        yc_list.append(model.predict(tdata))\n",
    "nominee = np.mean(yc_list, axis=0)>0.1\n",
    "\n",
    "ys_list = []\n",
    "for tdata in make_datasets_author(data):\n",
    "    for model in regression_model_list:\n",
    "        ys_list.append(model.predict(tdata))\n",
    "score = np.mean(ys_list, axis=0)\n",
    "yes_mask = nominee>0\n",
    "ymin = score[yes_mask].min()\n",
    "ymax = score[yes_mask].max()\n",
    "score[yes_mask] = 0.5+0.5*(score[yes_mask]-ymin)/(ymax-ymin)\n",
    "nmin = score[~yes_mask].min()\n",
    "nmax = score[~yes_mask].max()\n",
    "score[~yes_mask] = 0.5*(score[~yes_mask]-nmin)/(nmax-nmin)\n",
    "\n",
    "all_data['pred_score_author'] = score"
   ]
  },
  {
   "cell_type": "code",
   "execution_count": 135,
   "metadata": {},
   "outputs": [],
   "source": [
    "# Marginalize over reading level and authorship\n",
    "yc_list = []\n",
    "for ttdata in make_datasets_readinglevel(data):\n",
    "    for tdata in make_datasets_author(ttdata):\n",
    "        for model in model_list:\n",
    "            yc_list.append(model.predict(tdata))\n",
    "nominee = np.mean(yc_list, axis=0) > 0.2\n",
    "\n",
    "ys_list = []\n",
    "for ttdata in make_datasets_readinglevel(data):\n",
    "    for tdata in make_datasets_author(ttdata):\n",
    "        for model in regression_model_list:\n",
    "            ys_list.append(model.predict(tdata))\n",
    "score = np.mean(ys_list, axis=0)\n",
    "yes_mask = nominee>0\n",
    "ymin = score[yes_mask].min()\n",
    "ymax = score[yes_mask].max()\n",
    "score[yes_mask] = 0.5+0.5*(score[yes_mask]-ymin)/(ymax-ymin)\n",
    "nmin = score[~yes_mask].min()\n",
    "nmax = score[~yes_mask].max()\n",
    "score[~yes_mask] = 0.5*(score[~yes_mask]-nmin)/(nmax-nmin)\n",
    "\n",
    "all_data['pred_score_readinglevel_author'] = score"
   ]
  },
  {
   "cell_type": "code",
   "execution_count": 136,
   "metadata": {},
   "outputs": [],
   "source": [
    "all_data = all_data.drop(columns=['level_0', 'index'])"
   ]
  },
  {
   "cell_type": "code",
   "execution_count": 137,
   "metadata": {},
   "outputs": [],
   "source": [
    "engine = create_engine('postgresql://{}:{}@{}:{}/{}'.format(username, password, host, port, db_name))"
   ]
  },
  {
   "cell_type": "code",
   "execution_count": 138,
   "metadata": {},
   "outputs": [],
   "source": [
    "genre_data = all_data[[col for col in all_data.columns if col[:5]=='genre']]"
   ]
  },
  {
   "cell_type": "code",
   "execution_count": 139,
   "metadata": {},
   "outputs": [],
   "source": [
    "genre_min = np.min(genre_data, axis=1)"
   ]
  },
  {
   "cell_type": "code",
   "execution_count": 140,
   "metadata": {},
   "outputs": [
    {
     "data": {
      "text/plain": [
       "(4686,)"
      ]
     },
     "execution_count": 140,
     "metadata": {},
     "output_type": "execute_result"
    }
   ],
   "source": [
    "genre_min.shape"
   ]
  },
  {
   "cell_type": "code",
   "execution_count": 141,
   "metadata": {},
   "outputs": [],
   "source": [
    "genre_cutoff = genre_min+0.1"
   ]
  },
  {
   "cell_type": "code",
   "execution_count": 142,
   "metadata": {},
   "outputs": [],
   "source": [
    "genre_cutoff[(genre_cutoff>=0.5) & (genre_cutoff<=0.6)] = 0.5"
   ]
  },
  {
   "cell_type": "code",
   "execution_count": 149,
   "metadata": {},
   "outputs": [],
   "source": [
    "genre_cutoff[genre_cutoff>=0.6] = genre_min[genre_cutoff>=0.6]"
   ]
  },
  {
   "cell_type": "code",
   "execution_count": 150,
   "metadata": {},
   "outputs": [],
   "source": [
    "genre_data = genre_data<=genre_cutoff[:,None]"
   ]
  },
  {
   "cell_type": "code",
   "execution_count": 151,
   "metadata": {},
   "outputs": [
    {
     "data": {
      "text/plain": [
       "2    1184\n",
       "3     891\n",
       "9     615\n",
       "8     406\n",
       "7     357\n",
       "1     338\n",
       "4     286\n",
       "5     279\n",
       "6     245\n",
       "0      85\n",
       "dtype: int64"
      ]
     },
     "execution_count": 151,
     "metadata": {},
     "output_type": "execute_result"
    }
   ],
   "source": [
    "np.sum(genre_data, axis=1).value_counts()"
   ]
  },
  {
   "cell_type": "code",
   "execution_count": 152,
   "metadata": {},
   "outputs": [],
   "source": [
    "for i in range(10):\n",
    "    all_data['is_genre{}'.format(i)] = genre_data['genre{}'.format(i)]"
   ]
  },
  {
   "cell_type": "code",
   "execution_count": 153,
   "metadata": {},
   "outputs": [],
   "source": [
    "all_data.to_sql('works_flask', engine) "
   ]
  },
  {
   "cell_type": "code",
   "execution_count": 160,
   "metadata": {},
   "outputs": [
    {
     "data": {
      "text/plain": [
       "<matplotlib.axes._subplots.AxesSubplot at 0x7f75aafb1b10>"
      ]
     },
     "execution_count": 160,
     "metadata": {},
     "output_type": "execute_result"
    },
    {
     "data": {
      "image/png": "[encoded data removed]",
      "text/plain": [
       "<Figure size 432x288 with 1 Axes>"
      ]
     },
     "metadata": {},
     "output_type": "display_data"
    }
   ],
   "source": [
    "sns.distplot(all_data['review_embed0'])"
   ]
  },
  {
   "cell_type": "code",
   "execution_count": 178,
   "metadata": {},
   "outputs": [
    {
     "data": {
      "text/plain": [
       "<seaborn.axisgrid.PairGrid at 0x7f754dedda50>"
      ]
     },
     "execution_count": 178,
     "metadata": {},
     "output_type": "execute_result"
    },
    {
     "data": {
      "image/png": "[encoded data removed]",
      "text/plain": [
       "<Figure size 540x540 with 12 Axes>"
      ]
     },
     "metadata": {},
     "output_type": "display_data"
    }
   ],
   "source": [
    "cols = ['review_embed0', 'review_embed1', 'review_embed2']\n",
    "tdata = all_data\n",
    "for col in cols:\n",
    "    tdata = tdata[tdata[col]!=0]\n",
    "    tdata = tdata[~(tdata[col].isna())]\n",
    "for i in range(len(cols)):\n",
    "    tdata = tdata.rename(columns={'review_embed{}'.format(i): 'Topic {}'.format(i)})\n",
    "sns.pairplot(tdata[['Topic {}'.format(i) for i in range(len(cols))]])"
   ]
  },
  {
   "cell_type": "code",
   "execution_count": null,
   "metadata": {},
   "outputs": [],
   "source": []
  }
 ],
 "metadata": {
  "kernelspec": {
   "display_name": "Python (goodreads)",
   "language": "python",
   "name": "goodreads"
  },
  "language_info": {
   "codemirror_mode": {
    "name": "ipython",
    "version": 3
   },
   "file_extension": ".py",
   "mimetype": "text/x-python",
   "name": "python",
   "nbconvert_exporter": "python",
   "pygments_lexer": "ipython3",
   "version": "3.7.4"
  }
 },
 "nbformat": 4,
 "nbformat_minor": 2
}
