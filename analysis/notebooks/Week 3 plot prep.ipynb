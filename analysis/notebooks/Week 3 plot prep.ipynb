{
 "cells": [
  {
   "cell_type": "code",
   "execution_count": 1,
   "metadata": {},
   "outputs": [],
   "source": [
    "import pickle\n",
    "import seaborn as sns\n",
    "import numpy as np\n",
    "import pandas as pd\n",
    "import psycopg2\n",
    "import nltk\n",
    "import gensim\n",
    "from gensim import corpora, models\n",
    "import string\n",
    "from nltk.stem import WordNetLemmatizer \n",
    "from sqlalchemy import create_engine\n",
    "from sqlalchemy_utils import database_exists, create_database, drop_database\n",
    "import matplotlib.pyplot as plt"
   ]
  },
  {
   "cell_type": "code",
   "execution_count": 2,
   "metadata": {},
   "outputs": [],
   "source": [
    "with open('pg_credentials.p', 'rb') as f:\n",
    "    pg_credentials = pickle.load(f)"
   ]
  },
  {
   "cell_type": "code",
   "execution_count": 3,
   "metadata": {},
   "outputs": [],
   "source": [
    "host     = 'localhost'\n",
    "db_name  = 'goodreads_db'\n",
    "username = pg_credentials['username']\n",
    "password = pg_credentials['password']\n",
    "port = '5432'  # default port that postgres listens on\n",
    "    \n",
    "con = psycopg2.connect(database = db_name, user = username, host=host, password=password)"
   ]
  },
  {
   "cell_type": "code",
   "execution_count": 34,
   "metadata": {},
   "outputs": [],
   "source": [
    "query = \"SELECT * FROM works_flask\"\n",
    "all_data = pd.read_sql_query(query, con)"
   ]
  },
  {
   "cell_type": "code",
   "execution_count": 36,
   "metadata": {},
   "outputs": [
    {
     "name": "stdout",
     "output_type": "stream",
     "text": [
      "Languages: ['English']\n"
     ]
    }
   ],
   "source": [
    "from utils import make_regression_array\n",
    "data, mask = make_regression_array(all_data)"
   ]
  },
  {
   "cell_type": "code",
   "execution_count": 37,
   "metadata": {},
   "outputs": [],
   "source": [
    "ymask = (all_data['pubyear'][mask] < 2019) & (all_data['pubyear'][mask] > 2008)\n",
    "mask[mask][~ymask.values] = False\n",
    "data = data[ymask]"
   ]
  },
  {
   "cell_type": "code",
   "execution_count": 38,
   "metadata": {},
   "outputs": [
    {
     "data": {
      "text/plain": [
       "595"
      ]
     },
     "execution_count": 38,
     "metadata": {},
     "output_type": "execute_result"
    }
   ],
   "source": [
    "len(data)"
   ]
  },
  {
   "cell_type": "code",
   "execution_count": 29,
   "metadata": {},
   "outputs": [],
   "source": [
    "all_false = all_data.loc[false_negative.index]"
   ]
  },
  {
   "cell_type": "code",
   "execution_count": 30,
   "metadata": {},
   "outputs": [
    {
     "data": {
      "text/html": [
       "<div>\n",
       "<style scoped>\n",
       "    .dataframe tbody tr th:only-of-type {\n",
       "        vertical-align: middle;\n",
       "    }\n",
       "\n",
       "    .dataframe tbody tr th {\n",
       "        vertical-align: top;\n",
       "    }\n",
       "\n",
       "    .dataframe thead th {\n",
       "        text-align: right;\n",
       "    }\n",
       "</style>\n",
       "<table border=\"1\" class=\"dataframe\">\n",
       "  <thead>\n",
       "    <tr style=\"text-align: right;\">\n",
       "      <th></th>\n",
       "      <th>author</th>\n",
       "      <th>title</th>\n",
       "    </tr>\n",
       "  </thead>\n",
       "  <tbody>\n",
       "    <tr>\n",
       "      <td>41</td>\n",
       "      <td>Helene Wecker</td>\n",
       "      <td>The Golem and the Jinni</td>\n",
       "    </tr>\n",
       "    <tr>\n",
       "      <td>221</td>\n",
       "      <td>Catherynne M. Valente</td>\n",
       "      <td>Palimpsest</td>\n",
       "    </tr>\n",
       "    <tr>\n",
       "      <td>278</td>\n",
       "      <td>Catherynne M. Valente</td>\n",
       "      <td>Space Opera</td>\n",
       "    </tr>\n",
       "    <tr>\n",
       "      <td>360</td>\n",
       "      <td>Terry Pratchett</td>\n",
       "      <td>Unseen Academicals</td>\n",
       "    </tr>\n",
       "    <tr>\n",
       "      <td>455</td>\n",
       "      <td>Amie Kaufman</td>\n",
       "      <td>Gemina</td>\n",
       "    </tr>\n",
       "    <tr>\n",
       "      <td>556</td>\n",
       "      <td>Paolo Bacigalupi</td>\n",
       "      <td>Ship Breaker</td>\n",
       "    </tr>\n",
       "    <tr>\n",
       "      <td>586</td>\n",
       "      <td>Jim Butcher</td>\n",
       "      <td>The Aeronaut's Windlass</td>\n",
       "    </tr>\n",
       "    <tr>\n",
       "      <td>587</td>\n",
       "      <td>Paolo Bacigalupi</td>\n",
       "      <td>The Windup Girl</td>\n",
       "    </tr>\n",
       "    <tr>\n",
       "      <td>676</td>\n",
       "      <td>Patrick Rothfuss</td>\n",
       "      <td>The Wise Man's Fear</td>\n",
       "    </tr>\n",
       "    <tr>\n",
       "      <td>693</td>\n",
       "      <td>Cherie Priest</td>\n",
       "      <td>Boneshaker</td>\n",
       "    </tr>\n",
       "    <tr>\n",
       "      <td>910</td>\n",
       "      <td>Robert Charles Wilson</td>\n",
       "      <td>Julian Comstock: A Story of 22nd-Century America</td>\n",
       "    </tr>\n",
       "    <tr>\n",
       "      <td>936</td>\n",
       "      <td>R.F. Kuang</td>\n",
       "      <td>The Poppy War</td>\n",
       "    </tr>\n",
       "    <tr>\n",
       "      <td>963</td>\n",
       "      <td>N.K. Jemisin</td>\n",
       "      <td>The Hundred Thousand Kingdoms</td>\n",
       "    </tr>\n",
       "    <tr>\n",
       "      <td>970</td>\n",
       "      <td>Nnedi Okorafor</td>\n",
       "      <td>Who Fears Death</td>\n",
       "    </tr>\n",
       "    <tr>\n",
       "      <td>1154</td>\n",
       "      <td>Jim Butcher</td>\n",
       "      <td>The Aeronaut's Windlass</td>\n",
       "    </tr>\n",
       "    <tr>\n",
       "      <td>1560</td>\n",
       "      <td>Ally Condie</td>\n",
       "      <td>Reached</td>\n",
       "    </tr>\n",
       "    <tr>\n",
       "      <td>1788</td>\n",
       "      <td>Ada Palmer</td>\n",
       "      <td>Seven Surrenders</td>\n",
       "    </tr>\n",
       "  </tbody>\n",
       "</table>\n",
       "</div>"
      ],
      "text/plain": [
       "                     author                                             title\n",
       "41            Helene Wecker                           The Golem and the Jinni\n",
       "221   Catherynne M. Valente                                        Palimpsest\n",
       "278   Catherynne M. Valente                                       Space Opera\n",
       "360         Terry Pratchett                                Unseen Academicals\n",
       "455            Amie Kaufman                                            Gemina\n",
       "556        Paolo Bacigalupi                                      Ship Breaker\n",
       "586             Jim Butcher                           The Aeronaut's Windlass\n",
       "587        Paolo Bacigalupi                                   The Windup Girl\n",
       "676        Patrick Rothfuss                               The Wise Man's Fear\n",
       "693           Cherie Priest                                        Boneshaker\n",
       "910   Robert Charles Wilson  Julian Comstock: A Story of 22nd-Century America\n",
       "936              R.F. Kuang                                     The Poppy War\n",
       "963            N.K. Jemisin                     The Hundred Thousand Kingdoms\n",
       "970          Nnedi Okorafor                                   Who Fears Death\n",
       "1154            Jim Butcher                           The Aeronaut's Windlass\n",
       "1560            Ally Condie                                           Reached\n",
       "1788             Ada Palmer                                  Seven Surrenders"
      ]
     },
     "execution_count": 30,
     "metadata": {},
     "output_type": "execute_result"
    }
   ],
   "source": [
    "all_false[['author', 'title']]"
   ]
  },
  {
   "cell_type": "code",
   "execution_count": 55,
   "metadata": {},
   "outputs": [
    {
     "name": "stdout",
     "output_type": "stream",
     "text": [
      "[[96, 17], [9, 473]]\n"
     ]
    },
    {
     "data": {
      "image/png": "[encoded data removed]",
      "text/plain": [
       "<Figure size 432x288 with 1 Axes>"
      ]
     },
     "metadata": {},
     "output_type": "display_data"
    }
   ],
   "source": [
    "sns.set_style('whitegrid')\n",
    "array = [[np.sum(data[data['true_score']>0]['pred_score'] >= 0.5), np.sum(data[data['true_score']>0]['pred_score'] < 0.5)],\n",
    "         [np.sum(data[data['true_score']==0]['pred_score'] >= 0.5), np.sum(data[data['true_score']==0]['pred_score'] < 0.5)]]\n",
    "df_cm = pd.DataFrame(array, index = [\"Nom\", 'Not nom'],\n",
    "                  columns = [\"Nom\", \"Not nom\"])\n",
    "plt.imshow(df_cm)\n",
    "print(array)"
   ]
  },
  {
   "cell_type": "code",
   "execution_count": 39,
   "metadata": {},
   "outputs": [
    {
     "data": {
      "text/plain": [
       "(array([492.,  17.,  16.,   7.,  12.,   7.,  11.,   9.,   5.,  19.]),\n",
       " array([0. , 0.1, 0.2, 0.3, 0.4, 0.5, 0.6, 0.7, 0.8, 0.9, 1. ]),\n",
       " <a list of 10 Patch objects>)"
      ]
     },
     "execution_count": 39,
     "metadata": {},
     "output_type": "execute_result"
    },
    {
     "data": {
      "image/png": "[encoded data removed]",
      "text/plain": [
       "<Figure size 432x288 with 1 Axes>"
      ]
     },
     "metadata": {
      "needs_background": "light"
     },
     "output_type": "display_data"
    }
   ],
   "source": [
    "plt.hist(data['true_score'])"
   ]
  },
  {
   "cell_type": "code",
   "execution_count": 46,
   "metadata": {},
   "outputs": [],
   "source": [
    "nn = (data['true_score']==0) & (data['pred_score']<0.5)"
   ]
  },
  {
   "cell_type": "code",
   "execution_count": 48,
   "metadata": {},
   "outputs": [
    {
     "data": {
      "text/plain": [
       "6       0.191714\n",
       "12      0.322980\n",
       "13      0.203588\n",
       "18      0.285826\n",
       "22      0.222043\n",
       "          ...   \n",
       "1838    0.226232\n",
       "1840    0.289574\n",
       "1841    0.276029\n",
       "1845    0.221587\n",
       "1849    0.216704\n",
       "Name: pred_score, Length: 482, dtype: float64"
      ]
     },
     "execution_count": 48,
     "metadata": {},
     "output_type": "execute_result"
    }
   ],
   "source": [
    "data[data['true_score']==0]['pred_score']"
   ]
  },
  {
   "cell_type": "code",
   "execution_count": 50,
   "metadata": {},
   "outputs": [
    {
     "data": {
      "text/plain": [
       "473"
      ]
     },
     "execution_count": 50,
     "metadata": {},
     "output_type": "execute_result"
    }
   ],
   "source": [
    "np.sum(data[data['true_score']==0]['pred_score'] < 0.5)"
   ]
  },
  {
   "cell_type": "code",
   "execution_count": null,
   "metadata": {},
   "outputs": [],
   "source": []
  }
 ],
 "metadata": {
  "kernelspec": {
   "display_name": "Python (goodreads)",
   "language": "python",
   "name": "goodreads"
  },
  "language_info": {
   "codemirror_mode": {
    "name": "ipython",
    "version": 3
   },
   "file_extension": ".py",
   "mimetype": "text/x-python",
   "name": "python",
   "nbconvert_exporter": "python",
   "pygments_lexer": "ipython3",
   "version": "3.7.4"
  }
 },
 "nbformat": 4,
 "nbformat_minor": 2
}
